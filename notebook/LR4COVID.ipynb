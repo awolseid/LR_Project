{
 "cells": [
  {
   "cell_type": "markdown",
   "id": "fd85e4db",
   "metadata": {},
   "source": [
    "## Impact of COVID19"
   ]
  },
  {
   "cell_type": "markdown",
   "id": "d6f961aa-d6dc-4d59-9e8c-04f04921b237",
   "metadata": {},
   "source": [
    "### EDA"
   ]
  },
  {
   "cell_type": "code",
   "execution_count": 70,
   "id": "affa842b-626f-4091-93e9-79a40acb9444",
   "metadata": {},
   "outputs": [],
   "source": [
    "import numpy as np\n",
    "import pandas as pd\n",
    "import seaborn as sns\n",
    "import matplotlib.pyplot as plt\n",
    "%matplotlib inline\n",
    "import warnings\n",
    "warnings.filterwarnings('ignore')"
   ]
  },
  {
   "cell_type": "code",
   "execution_count": 71,
   "id": "54039df0-522c-4735-b673-c9fc49ced2b8",
   "metadata": {},
   "outputs": [
    {
     "data": {
      "text/html": [
       "<div>\n",
       "<style scoped>\n",
       "    .dataframe tbody tr th:only-of-type {\n",
       "        vertical-align: middle;\n",
       "    }\n",
       "\n",
       "    .dataframe tbody tr th {\n",
       "        vertical-align: top;\n",
       "    }\n",
       "\n",
       "    .dataframe thead th {\n",
       "        text-align: right;\n",
       "    }\n",
       "</style>\n",
       "<table border=\"1\" class=\"dataframe\">\n",
       "  <thead>\n",
       "    <tr style=\"text-align: right;\">\n",
       "      <th></th>\n",
       "      <th>UniqueID</th>\n",
       "      <th>Residence</th>\n",
       "      <th>Education</th>\n",
       "      <th>HouseHeadSex</th>\n",
       "      <th>Age</th>\n",
       "      <th>NumChild</th>\n",
       "      <th>WealthIndexOriginal</th>\n",
       "      <th>WealthIndex</th>\n",
       "    </tr>\n",
       "  </thead>\n",
       "  <tbody>\n",
       "    <tr>\n",
       "      <th>0</th>\n",
       "      <td>1</td>\n",
       "      <td>Rural</td>\n",
       "      <td>No Education</td>\n",
       "      <td>Male</td>\n",
       "      <td>38</td>\n",
       "      <td>8</td>\n",
       "      <td>-51074</td>\n",
       "      <td>162269</td>\n",
       "    </tr>\n",
       "    <tr>\n",
       "      <th>1</th>\n",
       "      <td>2</td>\n",
       "      <td>Rural</td>\n",
       "      <td>Incomplete Primary</td>\n",
       "      <td>Male</td>\n",
       "      <td>17</td>\n",
       "      <td>0</td>\n",
       "      <td>-51074</td>\n",
       "      <td>162269</td>\n",
       "    </tr>\n",
       "    <tr>\n",
       "      <th>2</th>\n",
       "      <td>3</td>\n",
       "      <td>Rural</td>\n",
       "      <td>Incomplete Primary</td>\n",
       "      <td>Male</td>\n",
       "      <td>42</td>\n",
       "      <td>6</td>\n",
       "      <td>-50742</td>\n",
       "      <td>162601</td>\n",
       "    </tr>\n",
       "    <tr>\n",
       "      <th>3</th>\n",
       "      <td>4</td>\n",
       "      <td>Rural</td>\n",
       "      <td>No Education</td>\n",
       "      <td>Male</td>\n",
       "      <td>46</td>\n",
       "      <td>9</td>\n",
       "      <td>-50137</td>\n",
       "      <td>163206</td>\n",
       "    </tr>\n",
       "    <tr>\n",
       "      <th>4</th>\n",
       "      <td>5</td>\n",
       "      <td>Rural</td>\n",
       "      <td>No Education</td>\n",
       "      <td>Male</td>\n",
       "      <td>17</td>\n",
       "      <td>1</td>\n",
       "      <td>-50137</td>\n",
       "      <td>163206</td>\n",
       "    </tr>\n",
       "    <tr>\n",
       "      <th>...</th>\n",
       "      <td>...</td>\n",
       "      <td>...</td>\n",
       "      <td>...</td>\n",
       "      <td>...</td>\n",
       "      <td>...</td>\n",
       "      <td>...</td>\n",
       "      <td>...</td>\n",
       "      <td>...</td>\n",
       "    </tr>\n",
       "    <tr>\n",
       "      <th>15678</th>\n",
       "      <td>15679</td>\n",
       "      <td>Urban</td>\n",
       "      <td>Incomplete Primary</td>\n",
       "      <td>Male</td>\n",
       "      <td>17</td>\n",
       "      <td>0</td>\n",
       "      <td>85862</td>\n",
       "      <td>299205</td>\n",
       "    </tr>\n",
       "    <tr>\n",
       "      <th>15679</th>\n",
       "      <td>15680</td>\n",
       "      <td>Urban</td>\n",
       "      <td>No Education</td>\n",
       "      <td>Male</td>\n",
       "      <td>33</td>\n",
       "      <td>2</td>\n",
       "      <td>147305</td>\n",
       "      <td>360648</td>\n",
       "    </tr>\n",
       "    <tr>\n",
       "      <th>15680</th>\n",
       "      <td>15681</td>\n",
       "      <td>Urban</td>\n",
       "      <td>Incomplete Primary</td>\n",
       "      <td>Male</td>\n",
       "      <td>25</td>\n",
       "      <td>1</td>\n",
       "      <td>186851</td>\n",
       "      <td>400194</td>\n",
       "    </tr>\n",
       "    <tr>\n",
       "      <th>15681</th>\n",
       "      <td>15682</td>\n",
       "      <td>Urban</td>\n",
       "      <td>Incomplete Primary</td>\n",
       "      <td>Male</td>\n",
       "      <td>18</td>\n",
       "      <td>0</td>\n",
       "      <td>186851</td>\n",
       "      <td>400194</td>\n",
       "    </tr>\n",
       "    <tr>\n",
       "      <th>15682</th>\n",
       "      <td>15683</td>\n",
       "      <td>Urban</td>\n",
       "      <td>Incomplete Secondary</td>\n",
       "      <td>Male</td>\n",
       "      <td>21</td>\n",
       "      <td>0</td>\n",
       "      <td>87711</td>\n",
       "      <td>301054</td>\n",
       "    </tr>\n",
       "  </tbody>\n",
       "</table>\n",
       "<p>15683 rows × 8 columns</p>\n",
       "</div>"
      ],
      "text/plain": [
       "       UniqueID Residence             Education HouseHeadSex  Age  NumChild  \\\n",
       "0             1     Rural          No Education         Male   38         8   \n",
       "1             2     Rural    Incomplete Primary         Male   17         0   \n",
       "2             3     Rural    Incomplete Primary         Male   42         6   \n",
       "3             4     Rural          No Education         Male   46         9   \n",
       "4             5     Rural          No Education         Male   17         1   \n",
       "...         ...       ...                   ...          ...  ...       ...   \n",
       "15678     15679     Urban    Incomplete Primary         Male   17         0   \n",
       "15679     15680     Urban          No Education         Male   33         2   \n",
       "15680     15681     Urban    Incomplete Primary         Male   25         1   \n",
       "15681     15682     Urban    Incomplete Primary         Male   18         0   \n",
       "15682     15683     Urban  Incomplete Secondary         Male   21         0   \n",
       "\n",
       "       WealthIndexOriginal  WealthIndex  \n",
       "0                   -51074       162269  \n",
       "1                   -51074       162269  \n",
       "2                   -50742       162601  \n",
       "3                   -50137       163206  \n",
       "4                   -50137       163206  \n",
       "...                    ...          ...  \n",
       "15678                85862       299205  \n",
       "15679               147305       360648  \n",
       "15680               186851       400194  \n",
       "15681               186851       400194  \n",
       "15682                87711       301054  \n",
       "\n",
       "[15683 rows x 8 columns]"
      ]
     },
     "execution_count": 71,
     "metadata": {},
     "output_type": "execute_result"
    }
   ],
   "source": [
    "df=pd.read_csv(\"data/WomenDHS.csv\")\n",
    "df"
   ]
  },
  {
   "cell_type": "code",
   "execution_count": 72,
   "id": "86c7676c-b350-43c7-ac14-b4ed0ef49cc7",
   "metadata": {},
   "outputs": [
    {
     "data": {
      "text/plain": [
       "(15683, 8)"
      ]
     },
     "execution_count": 72,
     "metadata": {},
     "output_type": "execute_result"
    }
   ],
   "source": [
    "## check for number of variables and observations\n",
    "df.shape"
   ]
  },
  {
   "cell_type": "code",
   "execution_count": 73,
   "id": "bc56ebc6-81ee-45d1-bbed-1ca2f8909ed0",
   "metadata": {},
   "outputs": [
    {
     "data": {
      "text/plain": [
       "UniqueID               0\n",
       "Residence              0\n",
       "Education              0\n",
       "HouseHeadSex           0\n",
       "Age                    0\n",
       "NumChild               0\n",
       "WealthIndexOriginal    0\n",
       "WealthIndex            0\n",
       "dtype: int64"
      ]
     },
     "execution_count": 73,
     "metadata": {},
     "output_type": "execute_result"
    }
   ],
   "source": [
    "## check missing values\n",
    "df.isna().sum()"
   ]
  },
  {
   "cell_type": "code",
   "execution_count": 74,
   "id": "9e7b619b-cbe1-4a45-ad87-2e9362c86b21",
   "metadata": {},
   "outputs": [
    {
     "data": {
      "text/plain": [
       "0"
      ]
     },
     "execution_count": 74,
     "metadata": {},
     "output_type": "execute_result"
    }
   ],
   "source": [
    "## check duplicates\n",
    "df.duplicated(subset=['UniqueID']).sum()"
   ]
  },
  {
   "cell_type": "code",
   "execution_count": 75,
   "id": "6956ca75-6dfa-409c-8528-9d51dcea2cef",
   "metadata": {},
   "outputs": [
    {
     "name": "stdout",
     "output_type": "stream",
     "text": [
      "<class 'pandas.core.frame.DataFrame'>\n",
      "RangeIndex: 15683 entries, 0 to 15682\n",
      "Data columns (total 8 columns):\n",
      " #   Column               Non-Null Count  Dtype \n",
      "---  ------               --------------  ----- \n",
      " 0   UniqueID             15683 non-null  int64 \n",
      " 1   Residence            15683 non-null  object\n",
      " 2   Education            15683 non-null  object\n",
      " 3   HouseHeadSex         15683 non-null  object\n",
      " 4   Age                  15683 non-null  int64 \n",
      " 5   NumChild             15683 non-null  int64 \n",
      " 6   WealthIndexOriginal  15683 non-null  int64 \n",
      " 7   WealthIndex          15683 non-null  int64 \n",
      "dtypes: int64(5), object(3)\n",
      "memory usage: 980.3+ KB\n"
     ]
    }
   ],
   "source": [
    "## check for datatypes\n",
    "df.info()"
   ]
  },
  {
   "cell_type": "code",
   "execution_count": 76,
   "id": "7df1f72c-5152-4cef-8717-e5a9c58c4907",
   "metadata": {},
   "outputs": [
    {
     "data": {
      "text/plain": [
       "UniqueID               15683\n",
       "Residence                  2\n",
       "Education                  6\n",
       "HouseHeadSex               2\n",
       "Age                       35\n",
       "NumChild                  13\n",
       "WealthIndexOriginal    11935\n",
       "WealthIndex            11935\n",
       "dtype: int64"
      ]
     },
     "execution_count": 76,
     "metadata": {},
     "output_type": "execute_result"
    }
   ],
   "source": [
    "## check unique values for each variable\n",
    "df.nunique()"
   ]
  },
  {
   "cell_type": "code",
   "execution_count": 77,
   "id": "84bafadc-3b61-4679-8417-9b39b1e4e40b",
   "metadata": {},
   "outputs": [
    {
     "data": {
      "text/html": [
       "<div>\n",
       "<style scoped>\n",
       "    .dataframe tbody tr th:only-of-type {\n",
       "        vertical-align: middle;\n",
       "    }\n",
       "\n",
       "    .dataframe tbody tr th {\n",
       "        vertical-align: top;\n",
       "    }\n",
       "\n",
       "    .dataframe thead th {\n",
       "        text-align: right;\n",
       "    }\n",
       "</style>\n",
       "<table border=\"1\" class=\"dataframe\">\n",
       "  <thead>\n",
       "    <tr style=\"text-align: right;\">\n",
       "      <th></th>\n",
       "      <th>UniqueID</th>\n",
       "      <th>Age</th>\n",
       "      <th>NumChild</th>\n",
       "      <th>WealthIndexOriginal</th>\n",
       "      <th>WealthIndex</th>\n",
       "    </tr>\n",
       "  </thead>\n",
       "  <tbody>\n",
       "    <tr>\n",
       "      <th>count</th>\n",
       "      <td>15683.000000</td>\n",
       "      <td>15683.000000</td>\n",
       "      <td>15683.000000</td>\n",
       "      <td>15683.000000</td>\n",
       "      <td>15683.000000</td>\n",
       "    </tr>\n",
       "    <tr>\n",
       "      <th>mean</th>\n",
       "      <td>7842.000000</td>\n",
       "      <td>27.937321</td>\n",
       "      <td>2.325639</td>\n",
       "      <td>10621.310209</td>\n",
       "      <td>223964.310209</td>\n",
       "    </tr>\n",
       "    <tr>\n",
       "      <th>std</th>\n",
       "      <td>4527.436471</td>\n",
       "      <td>9.159282</td>\n",
       "      <td>2.472988</td>\n",
       "      <td>105301.347989</td>\n",
       "      <td>105301.347989</td>\n",
       "    </tr>\n",
       "    <tr>\n",
       "      <th>min</th>\n",
       "      <td>1.000000</td>\n",
       "      <td>15.000000</td>\n",
       "      <td>0.000000</td>\n",
       "      <td>-213343.000000</td>\n",
       "      <td>0.000000</td>\n",
       "    </tr>\n",
       "    <tr>\n",
       "      <th>25%</th>\n",
       "      <td>3921.500000</td>\n",
       "      <td>20.000000</td>\n",
       "      <td>0.000000</td>\n",
       "      <td>-61526.500000</td>\n",
       "      <td>151816.500000</td>\n",
       "    </tr>\n",
       "    <tr>\n",
       "      <th>50%</th>\n",
       "      <td>7842.000000</td>\n",
       "      <td>27.000000</td>\n",
       "      <td>2.000000</td>\n",
       "      <td>-33659.000000</td>\n",
       "      <td>179684.000000</td>\n",
       "    </tr>\n",
       "    <tr>\n",
       "      <th>75%</th>\n",
       "      <td>11762.500000</td>\n",
       "      <td>35.000000</td>\n",
       "      <td>4.000000</td>\n",
       "      <td>88720.000000</td>\n",
       "      <td>302063.000000</td>\n",
       "    </tr>\n",
       "    <tr>\n",
       "      <th>max</th>\n",
       "      <td>15683.000000</td>\n",
       "      <td>49.000000</td>\n",
       "      <td>12.000000</td>\n",
       "      <td>309962.000000</td>\n",
       "      <td>523305.000000</td>\n",
       "    </tr>\n",
       "  </tbody>\n",
       "</table>\n",
       "</div>"
      ],
      "text/plain": [
       "           UniqueID           Age      NumChild  WealthIndexOriginal  \\\n",
       "count  15683.000000  15683.000000  15683.000000         15683.000000   \n",
       "mean    7842.000000     27.937321      2.325639         10621.310209   \n",
       "std     4527.436471      9.159282      2.472988        105301.347989   \n",
       "min        1.000000     15.000000      0.000000       -213343.000000   \n",
       "25%     3921.500000     20.000000      0.000000        -61526.500000   \n",
       "50%     7842.000000     27.000000      2.000000        -33659.000000   \n",
       "75%    11762.500000     35.000000      4.000000         88720.000000   \n",
       "max    15683.000000     49.000000     12.000000        309962.000000   \n",
       "\n",
       "         WealthIndex  \n",
       "count   15683.000000  \n",
       "mean   223964.310209  \n",
       "std    105301.347989  \n",
       "min         0.000000  \n",
       "25%    151816.500000  \n",
       "50%    179684.000000  \n",
       "75%    302063.000000  \n",
       "max    523305.000000  "
      ]
     },
     "execution_count": 77,
     "metadata": {},
     "output_type": "execute_result"
    }
   ],
   "source": [
    "## Descriptive stat\n",
    "\n",
    "df.describe()"
   ]
  },
  {
   "cell_type": "code",
   "execution_count": 78,
   "id": "68d03176-2e2a-4625-b14c-2402926b004a",
   "metadata": {},
   "outputs": [
    {
     "name": "stdout",
     "output_type": "stream",
     "text": [
      "3 ['Residence', 'Education', 'HouseHeadSex']\n",
      "5 ['UniqueID', 'Age', 'NumChild', 'WealthIndexOriginal', 'WealthIndex']\n"
     ]
    }
   ],
   "source": [
    "## Number of catgorical and numerical features\n",
    "categirical_features = [f for f in df.columns if df[f].dtype == \"O\"] # \"O\" -> Object\n",
    "num_categirical_features = len(categirical_features)\n",
    "numeric_features = [f for f in df.columns if df[f].dtype != \"O\"]\n",
    "num_numeric_features = len(numeric_features)\n",
    "\n",
    "print(num_categirical_features, categirical_features)\n",
    "print(num_numeric_features, numeric_features)"
   ]
  },
  {
   "cell_type": "code",
   "execution_count": 79,
   "id": "2214f8ac",
   "metadata": {},
   "outputs": [
    {
     "name": "stdout",
     "output_type": "stream",
     "text": [
      "Index(['Residence', 'Education', 'HouseHeadSex'], dtype='object')\n",
      "Index(['UniqueID', 'Age', 'NumChild', 'WealthIndexOriginal', 'WealthIndex'], dtype='object')\n"
     ]
    }
   ],
   "source": [
    "categorical_features = df.select_dtypes(include=\"object\").columns\n",
    "print(categorical_features)\n",
    "numeric_features = df.select_dtypes(exclude=\"object\").columns\n",
    "print(numeric_features)"
   ]
  },
  {
   "cell_type": "markdown",
   "id": "d402bb1c-6435-445b-9d6c-cbc7b511807d",
   "metadata": {},
   "source": [
    "### Histogram and KDE"
   ]
  },
  {
   "cell_type": "code",
   "execution_count": 80,
   "id": "6ed57821-09cc-4991-b8e5-9080181bfbcd",
   "metadata": {},
   "outputs": [
    {
     "data": {
      "image/png": "[encoded data removed]",
      "text/plain": [
       "<Figure size 1500x700 with 2 Axes>"
      ]
     },
     "metadata": {},
     "output_type": "display_data"
    }
   ],
   "source": [
    "fig, axs = plt.subplots(1, 2, figsize=(15, 7))\n",
    "plt.subplot(121)\n",
    "sns.histplot(data=df, x='WealthIndex', bins=30, kde=True, color='g')\n",
    "plt.subplot(122)\n",
    "sns.histplot(data=df, x='WealthIndex', kde=True, hue='HouseHeadSex')\n",
    "plt.show()"
   ]
  },
  {
   "cell_type": "code",
   "execution_count": null,
   "id": "fd8e63bd-29f9-45c1-890c-dbdd77335bd8",
   "metadata": {},
   "outputs": [],
   "source": []
  },
  {
   "cell_type": "code",
   "execution_count": 81,
   "id": "d31aec48-1173-497e-a280-a6e3278d4135",
   "metadata": {},
   "outputs": [
    {
     "data": {
      "image/png": "[encoded data removed]",
      "text/plain": [
       "<Figure size 1500x700 with 2 Axes>"
      ]
     },
     "metadata": {},
     "output_type": "display_data"
    }
   ],
   "source": [
    "fig, axs = plt.subplots(1, 2, figsize=(15, 7))\n",
    "plt.subplot(121)\n",
    "sns.histplot(data=df, x='WealthIndex', bins=30, kde=True, color='g')\n",
    "plt.subplot(122)\n",
    "sns.histplot(data=df, x='WealthIndex', kde=True, hue='Residence')\n",
    "plt.show()"
   ]
  },
  {
   "cell_type": "code",
   "execution_count": 82,
   "id": "f76cb4ad-f083-498a-abfe-36ed51fcb820",
   "metadata": {},
   "outputs": [
    {
     "data": {
      "image/png": "[encoded data removed]",
      "text/plain": [
       "<Figure size 1500x700 with 2 Axes>"
      ]
     },
     "metadata": {},
     "output_type": "display_data"
    }
   ],
   "source": [
    "fig, axs = plt.subplots(1, 2, figsize=(15, 7))\n",
    "plt.subplot(121)\n",
    "sns.histplot(data=df, x='WealthIndex', bins=30, kde=True, color='g')\n",
    "plt.subplot(122)\n",
    "sns.histplot(data=df, x='WealthIndex', kde=True, hue='HouseHeadSex')\n",
    "plt.show()"
   ]
  },
  {
   "cell_type": "markdown",
   "id": "a703444c-cbd2-46d5-97fa-c6a96e464d2a",
   "metadata": {},
   "source": [
    "* Females are more affected by COVID19 than males"
   ]
  },
  {
   "cell_type": "markdown",
   "id": "065c5fb4-d08e-40ab-9da2-2c31671dfd08",
   "metadata": {},
   "source": [
    "### Modeling"
   ]
  },
  {
   "cell_type": "code",
   "execution_count": 83,
   "id": "00bd4714-471d-4483-9e57-b8f36b0f988a",
   "metadata": {},
   "outputs": [
    {
     "name": "stdout",
     "output_type": "stream",
     "text": [
      "Requirement already satisfied: catboost in c:\\users\\esawo\\appdata\\local\\programs\\python\\python310\\lib\\site-packages (1.2.5)\n",
      "Requirement already satisfied: graphviz in c:\\users\\esawo\\appdata\\local\\programs\\python\\python310\\lib\\site-packages (from catboost) (0.20.3)\n",
      "Requirement already satisfied: matplotlib in c:\\users\\esawo\\appdata\\local\\programs\\python\\python310\\lib\\site-packages (from catboost) (3.8.4)\n",
      "Requirement already satisfied: numpy>=1.16.0 in c:\\users\\esawo\\appdata\\local\\programs\\python\\python310\\lib\\site-packages (from catboost) (1.22.3)\n",
      "Requirement already satisfied: pandas>=0.24 in c:\\users\\esawo\\appdata\\local\\programs\\python\\python310\\lib\\site-packages (from catboost) (1.4.1)\n",
      "Requirement already satisfied: scipy in c:\\users\\esawo\\appdata\\local\\programs\\python\\python310\\lib\\site-packages (from catboost) (1.11.2)\n",
      "Requirement already satisfied: plotly in c:\\users\\esawo\\appdata\\local\\programs\\python\\python310\\lib\\site-packages (from catboost) (5.22.0)\n",
      "Requirement already satisfied: six in c:\\users\\esawo\\appdata\\local\\programs\\python\\python310\\lib\\site-packages (from catboost) (1.16.0)\n",
      "Requirement already satisfied: python-dateutil>=2.8.1 in c:\\users\\esawo\\appdata\\local\\programs\\python\\python310\\lib\\site-packages (from pandas>=0.24->catboost) (2.8.2)\n",
      "Requirement already satisfied: pytz>=2020.1 in c:\\users\\esawo\\appdata\\local\\programs\\python\\python310\\lib\\site-packages (from pandas>=0.24->catboost) (2021.3)\n",
      "Requirement already satisfied: contourpy>=1.0.1 in c:\\users\\esawo\\appdata\\local\\programs\\python\\python310\\lib\\site-packages (from matplotlib->catboost) (1.2.1)\n",
      "Requirement already satisfied: cycler>=0.10 in c:\\users\\esawo\\appdata\\local\\programs\\python\\python310\\lib\\site-packages (from matplotlib->catboost) (0.12.1)\n",
      "Requirement already satisfied: fonttools>=4.22.0 in c:\\users\\esawo\\appdata\\local\\programs\\python\\python310\\lib\\site-packages (from matplotlib->catboost) (4.51.0)\n",
      "Requirement already satisfied: kiwisolver>=1.3.1 in c:\\users\\esawo\\appdata\\local\\programs\\python\\python310\\lib\\site-packages (from matplotlib->catboost) (1.4.5)\n",
      "Requirement already satisfied: packaging>=20.0 in c:\\users\\esawo\\appdata\\local\\programs\\python\\python310\\lib\\site-packages (from matplotlib->catboost) (23.1)\n",
      "Requirement already satisfied: pillow>=8 in c:\\users\\esawo\\appdata\\local\\programs\\python\\python310\\lib\\site-packages (from matplotlib->catboost) (10.3.0)\n",
      "Requirement already satisfied: pyparsing>=2.3.1 in c:\\users\\esawo\\appdata\\local\\programs\\python\\python310\\lib\\site-packages (from matplotlib->catboost) (3.1.2)\n",
      "Requirement already satisfied: tenacity>=6.2.0 in c:\\users\\esawo\\appdata\\local\\programs\\python\\python310\\lib\\site-packages (from plotly->catboost) (8.3.0)\n",
      "Note: you may need to restart the kernel to use updated packages.\n"
     ]
    },
    {
     "name": "stderr",
     "output_type": "stream",
     "text": [
      "\n",
      "[notice] A new release of pip is available: 23.3 -> 24.0\n",
      "[notice] To update, run: python.exe -m pip install --upgrade pip\n"
     ]
    }
   ],
   "source": [
    "pip install catboost"
   ]
  },
  {
   "cell_type": "code",
   "execution_count": 84,
   "id": "09a9f036-af42-4e88-84ba-3432a8e16fd6",
   "metadata": {},
   "outputs": [
    {
     "name": "stdout",
     "output_type": "stream",
     "text": [
      "Requirement already satisfied: xgboost in c:\\users\\esawo\\appdata\\local\\programs\\python\\python310\\lib\\site-packages (2.0.3)\n",
      "Requirement already satisfied: numpy in c:\\users\\esawo\\appdata\\local\\programs\\python\\python310\\lib\\site-packages (from xgboost) (1.22.3)\n",
      "Requirement already satisfied: scipy in c:\\users\\esawo\\appdata\\local\\programs\\python\\python310\\lib\\site-packages (from xgboost) (1.11.2)\n",
      "Note: you may need to restart the kernel to use updated packages.\n"
     ]
    },
    {
     "name": "stderr",
     "output_type": "stream",
     "text": [
      "\n",
      "[notice] A new release of pip is available: 23.3 -> 24.0\n",
      "[notice] To update, run: python.exe -m pip install --upgrade pip\n"
     ]
    }
   ],
   "source": [
    "pip install xgboost"
   ]
  },
  {
   "cell_type": "code",
   "execution_count": 85,
   "id": "ab1897f2-c92f-45ec-b491-56143baedc45",
   "metadata": {},
   "outputs": [],
   "source": [
    "from sklearn.neighbors import KNeighborsRegressor\n",
    "from sklearn.tree import DecisionTreeRegressor\n",
    "from sklearn.ensemble import RandomForestRegressor, AdaBoostRegressor, GradientBoostingRegressor\n",
    "from sklearn.linear_model import LinearRegression, Ridge, Lasso, ElasticNet\n",
    "from catboost import CatBoostRegressor\n",
    "from xgboost import XGBRegressor\n",
    "from sklearn.metrics import mean_absolute_error, mean_squared_error, r2_score"
   ]
  },
  {
   "cell_type": "code",
   "execution_count": null,
   "id": "f069cd66",
   "metadata": {},
   "outputs": [],
   "source": []
  },
  {
   "cell_type": "code",
   "execution_count": 86,
   "id": "e1568be2-724b-45dd-b130-ec9d77d70aa9",
   "metadata": {},
   "outputs": [
    {
     "data": {
      "text/html": [
       "<div>\n",
       "<style scoped>\n",
       "    .dataframe tbody tr th:only-of-type {\n",
       "        vertical-align: middle;\n",
       "    }\n",
       "\n",
       "    .dataframe tbody tr th {\n",
       "        vertical-align: top;\n",
       "    }\n",
       "\n",
       "    .dataframe thead th {\n",
       "        text-align: right;\n",
       "    }\n",
       "</style>\n",
       "<table border=\"1\" class=\"dataframe\">\n",
       "  <thead>\n",
       "    <tr style=\"text-align: right;\">\n",
       "      <th></th>\n",
       "      <th>Residence</th>\n",
       "      <th>Education</th>\n",
       "      <th>HouseHeadSex</th>\n",
       "      <th>Age</th>\n",
       "      <th>NumChild</th>\n",
       "    </tr>\n",
       "  </thead>\n",
       "  <tbody>\n",
       "    <tr>\n",
       "      <th>0</th>\n",
       "      <td>Rural</td>\n",
       "      <td>No Education</td>\n",
       "      <td>Male</td>\n",
       "      <td>38</td>\n",
       "      <td>8</td>\n",
       "    </tr>\n",
       "    <tr>\n",
       "      <th>1</th>\n",
       "      <td>Rural</td>\n",
       "      <td>Incomplete Primary</td>\n",
       "      <td>Male</td>\n",
       "      <td>17</td>\n",
       "      <td>0</td>\n",
       "    </tr>\n",
       "    <tr>\n",
       "      <th>2</th>\n",
       "      <td>Rural</td>\n",
       "      <td>Incomplete Primary</td>\n",
       "      <td>Male</td>\n",
       "      <td>42</td>\n",
       "      <td>6</td>\n",
       "    </tr>\n",
       "    <tr>\n",
       "      <th>3</th>\n",
       "      <td>Rural</td>\n",
       "      <td>No Education</td>\n",
       "      <td>Male</td>\n",
       "      <td>46</td>\n",
       "      <td>9</td>\n",
       "    </tr>\n",
       "    <tr>\n",
       "      <th>4</th>\n",
       "      <td>Rural</td>\n",
       "      <td>No Education</td>\n",
       "      <td>Male</td>\n",
       "      <td>17</td>\n",
       "      <td>1</td>\n",
       "    </tr>\n",
       "    <tr>\n",
       "      <th>...</th>\n",
       "      <td>...</td>\n",
       "      <td>...</td>\n",
       "      <td>...</td>\n",
       "      <td>...</td>\n",
       "      <td>...</td>\n",
       "    </tr>\n",
       "    <tr>\n",
       "      <th>15678</th>\n",
       "      <td>Urban</td>\n",
       "      <td>Incomplete Primary</td>\n",
       "      <td>Male</td>\n",
       "      <td>17</td>\n",
       "      <td>0</td>\n",
       "    </tr>\n",
       "    <tr>\n",
       "      <th>15679</th>\n",
       "      <td>Urban</td>\n",
       "      <td>No Education</td>\n",
       "      <td>Male</td>\n",
       "      <td>33</td>\n",
       "      <td>2</td>\n",
       "    </tr>\n",
       "    <tr>\n",
       "      <th>15680</th>\n",
       "      <td>Urban</td>\n",
       "      <td>Incomplete Primary</td>\n",
       "      <td>Male</td>\n",
       "      <td>25</td>\n",
       "      <td>1</td>\n",
       "    </tr>\n",
       "    <tr>\n",
       "      <th>15681</th>\n",
       "      <td>Urban</td>\n",
       "      <td>Incomplete Primary</td>\n",
       "      <td>Male</td>\n",
       "      <td>18</td>\n",
       "      <td>0</td>\n",
       "    </tr>\n",
       "    <tr>\n",
       "      <th>15682</th>\n",
       "      <td>Urban</td>\n",
       "      <td>Incomplete Secondary</td>\n",
       "      <td>Male</td>\n",
       "      <td>21</td>\n",
       "      <td>0</td>\n",
       "    </tr>\n",
       "  </tbody>\n",
       "</table>\n",
       "<p>15683 rows × 5 columns</p>\n",
       "</div>"
      ],
      "text/plain": [
       "      Residence             Education HouseHeadSex  Age  NumChild\n",
       "0         Rural          No Education         Male   38         8\n",
       "1         Rural    Incomplete Primary         Male   17         0\n",
       "2         Rural    Incomplete Primary         Male   42         6\n",
       "3         Rural          No Education         Male   46         9\n",
       "4         Rural          No Education         Male   17         1\n",
       "...         ...                   ...          ...  ...       ...\n",
       "15678     Urban    Incomplete Primary         Male   17         0\n",
       "15679     Urban          No Education         Male   33         2\n",
       "15680     Urban    Incomplete Primary         Male   25         1\n",
       "15681     Urban    Incomplete Primary         Male   18         0\n",
       "15682     Urban  Incomplete Secondary         Male   21         0\n",
       "\n",
       "[15683 rows x 5 columns]"
      ]
     },
     "execution_count": 86,
     "metadata": {},
     "output_type": "execute_result"
    }
   ],
   "source": [
    "X = df.drop(columns=[\"UniqueID\", \"WealthIndexOriginal\", \"WealthIndex\"])\n",
    "X"
   ]
  },
  {
   "cell_type": "code",
   "execution_count": 87,
   "id": "4262e4cb-4a54-43ee-9e32-82c5f0f37723",
   "metadata": {},
   "outputs": [
    {
     "data": {
      "text/plain": [
       "0        162269\n",
       "1        162269\n",
       "2        162601\n",
       "3        163206\n",
       "4        163206\n",
       "          ...  \n",
       "15678    299205\n",
       "15679    360648\n",
       "15680    400194\n",
       "15681    400194\n",
       "15682    301054\n",
       "Name: WealthIndex, Length: 15683, dtype: int64"
      ]
     },
     "execution_count": 87,
     "metadata": {},
     "output_type": "execute_result"
    }
   ],
   "source": [
    "y = df[\"WealthIndex\"]\n",
    "y"
   ]
  },
  {
   "cell_type": "markdown",
   "id": "20f697f3",
   "metadata": {},
   "source": [
    "### Feature Transformations"
   ]
  },
  {
   "cell_type": "code",
   "execution_count": 88,
   "id": "78ae16e4-7bf5-4c5e-a182-876881c071b6",
   "metadata": {},
   "outputs": [],
   "source": [
    "cat_features = X.select_dtypes(include=\"object\").columns\n",
    "num_features = X.select_dtypes(exclude=\"object\").columns"
   ]
  },
  {
   "cell_type": "code",
   "execution_count": 89,
   "id": "870105fe-2af6-4f49-a4ff-96a2b11cbb3a",
   "metadata": {},
   "outputs": [
    {
     "data": {
      "text/plain": [
       "(Index(['Residence', 'Education', 'HouseHeadSex'], dtype='object'),\n",
       " Index(['Age', 'NumChild'], dtype='object'))"
      ]
     },
     "execution_count": 89,
     "metadata": {},
     "output_type": "execute_result"
    }
   ],
   "source": [
    "cat_features, num_features"
   ]
  },
  {
   "cell_type": "code",
   "execution_count": 90,
   "id": "6f50652e-4d56-4a84-b996-5dadeef220b4",
   "metadata": {},
   "outputs": [],
   "source": [
    "from sklearn.preprocessing import OneHotEncoder, StandardScaler\n",
    "from sklearn.compose import ColumnTransformer"
   ]
  },
  {
   "cell_type": "code",
   "execution_count": 91,
   "id": "f7c0a798",
   "metadata": {},
   "outputs": [],
   "source": [
    "numeric_transformer = StandardScaler()\n",
    "onehot_transformer = OneHotEncoder()"
   ]
  },
  {
   "cell_type": "code",
   "execution_count": 92,
   "id": "cdc9b64c",
   "metadata": {},
   "outputs": [
    {
     "name": "stdout",
     "output_type": "stream",
     "text": [
      "StandardScaler() OneHotEncoder()\n"
     ]
    }
   ],
   "source": [
    "print(numeric_transformer, onehot_transformer)"
   ]
  },
  {
   "cell_type": "code",
   "execution_count": 93,
   "id": "f10a4fe1",
   "metadata": {},
   "outputs": [],
   "source": [
    "preprocessor = ColumnTransformer([\n",
    "    (\"OneHotEncoder\", onehot_transformer, cat_features),\n",
    "    (\"StandardScaler\", numeric_transformer, num_features)\n",
    "    ])"
   ]
  },
  {
   "cell_type": "code",
   "execution_count": 94,
   "id": "d38ca1c3",
   "metadata": {},
   "outputs": [
    {
     "data": {
      "text/plain": [
       "array([[ 1.        ,  0.        ,  0.        , ...,  1.        ,\n",
       "         1.09866691,  2.29460912],\n",
       "       [ 1.        ,  0.        ,  0.        , ...,  1.        ,\n",
       "        -1.1941623 , -0.94044655],\n",
       "       [ 1.        ,  0.        ,  0.        , ...,  1.        ,\n",
       "         1.53539628,  1.48584521],\n",
       "       ...,\n",
       "       [ 0.        ,  1.        ,  0.        , ...,  1.        ,\n",
       "        -0.32070355, -0.53606459],\n",
       "       [ 0.        ,  1.        ,  0.        , ...,  1.        ,\n",
       "        -1.08497995, -0.94044655],\n",
       "       [ 0.        ,  1.        ,  0.        , ...,  1.        ,\n",
       "        -0.75743292, -0.94044655]])"
      ]
     },
     "execution_count": 94,
     "metadata": {},
     "output_type": "execute_result"
    }
   ],
   "source": [
    "X = preprocessor.fit_transform(X)\n",
    "X"
   ]
  },
  {
   "cell_type": "code",
   "execution_count": 95,
   "id": "0806f464",
   "metadata": {},
   "outputs": [
    {
     "data": {
      "text/plain": [
       "(15683, 12)"
      ]
     },
     "execution_count": 95,
     "metadata": {},
     "output_type": "execute_result"
    }
   ],
   "source": [
    "X.shape"
   ]
  },
  {
   "cell_type": "markdown",
   "id": "9d8d6321",
   "metadata": {},
   "source": [
    "### Train and Test Split"
   ]
  },
  {
   "cell_type": "code",
   "execution_count": 96,
   "id": "73d00fa0",
   "metadata": {},
   "outputs": [
    {
     "data": {
      "text/plain": [
       "((12546, 12), (3137, 12))"
      ]
     },
     "execution_count": 96,
     "metadata": {},
     "output_type": "execute_result"
    }
   ],
   "source": [
    "from sklearn.model_selection import train_test_split\n",
    "X_train, X_test, y_train, y_test = train_test_split(\n",
    "    X, \n",
    "    y, \n",
    "    test_size=0.2, \n",
    "    random_state=42\n",
    ")\n",
    "X_train.shape, X_test.shape"
   ]
  },
  {
   "cell_type": "code",
   "execution_count": 97,
   "id": "b43bc431",
   "metadata": {},
   "outputs": [],
   "source": [
    "def evaluate_model(actual, predicted):\n",
    "    MAE = mean_absolute_error(actual, predicted)\n",
    "    MSE = mean_squared_error(actual, predicted)\n",
    "    RMSE = np.sqrt(MSE)\n",
    "    R2 = r2_score(actual, predicted)    \n",
    "    return MAE, MSE, RMSE, R2"
   ]
  },
  {
   "cell_type": "code",
   "execution_count": 98,
   "id": "90218eb6",
   "metadata": {},
   "outputs": [],
   "source": [
    "models = {\n",
    "    ## Linear models\n",
    "    \"Linear\" : LinearRegression(),\n",
    "    \"Lasso\" : Lasso(),\n",
    "    \"Ridge\" : Ridge(),\n",
    "    \"ElasticNet\" : ElasticNet(),\n",
    "    ## Tree-based regressions\n",
    "    \"K-Neighbors\" : KNeighborsRegressor(),\n",
    "    \"Decision Tree\" : DecisionTreeRegressor(),\n",
    "    \"Random Forest\" : RandomForestRegressor(),\n",
    "    \"XGBoost\" : XGBRegressor(),\n",
    "    \"CatBoosting\" : CatBoostRegressor(verbose=False),\n",
    "    \"AdaBoost\": AdaBoostRegressor(),\n",
    "    \"Gradient Boosting\": GradientBoostingRegressor()\n",
    "}"
   ]
  },
  {
   "cell_type": "code",
   "execution_count": null,
   "id": "06b91c1f",
   "metadata": {},
   "outputs": [],
   "source": []
  },
  {
   "cell_type": "code",
   "execution_count": 99,
   "id": "1b2132d4",
   "metadata": {},
   "outputs": [
    {
     "data": {
      "text/plain": [
       "['Linear',\n",
       " 'Lasso',\n",
       " 'Ridge',\n",
       " 'ElasticNet',\n",
       " 'K-Neighbors',\n",
       " 'Decision Tree',\n",
       " 'Random Forest',\n",
       " 'XGBoost',\n",
       " 'CatBoosting',\n",
       " 'AdaBoost',\n",
       " 'Gradient Boosting']"
      ]
     },
     "execution_count": 99,
     "metadata": {},
     "output_type": "execute_result"
    }
   ],
   "source": [
    "num_models = len(models)\n",
    "model_type = list(models.keys())\n",
    "model_type"
   ]
  },
  {
   "cell_type": "code",
   "execution_count": 100,
   "id": "aebbfa56",
   "metadata": {},
   "outputs": [
    {
     "data": {
      "text/plain": [
       "[LinearRegression(),\n",
       " Lasso(),\n",
       " Ridge(),\n",
       " ElasticNet(),\n",
       " KNeighborsRegressor(),\n",
       " DecisionTreeRegressor(),\n",
       " RandomForestRegressor(),\n",
       " XGBRegressor(base_score=None, booster=None, callbacks=None,\n",
       "              colsample_bylevel=None, colsample_bynode=None,\n",
       "              colsample_bytree=None, device=None, early_stopping_rounds=None,\n",
       "              enable_categorical=False, eval_metric=None, feature_types=None,\n",
       "              gamma=None, grow_policy=None, importance_type=None,\n",
       "              interaction_constraints=None, learning_rate=None, max_bin=None,\n",
       "              max_cat_threshold=None, max_cat_to_onehot=None,\n",
       "              max_delta_step=None, max_depth=None, max_leaves=None,\n",
       "              min_child_weight=None, missing=nan, monotone_constraints=None,\n",
       "              multi_strategy=None, n_estimators=None, n_jobs=None,\n",
       "              num_parallel_tree=None, random_state=None, ...),\n",
       " <catboost.core.CatBoostRegressor at 0x269654a3ac0>,\n",
       " AdaBoostRegressor(),\n",
       " GradientBoostingRegressor()]"
      ]
     },
     "execution_count": 100,
     "metadata": {},
     "output_type": "execute_result"
    }
   ],
   "source": [
    "models = list(models.values())\n",
    "models"
   ]
  },
  {
   "cell_type": "code",
   "execution_count": 101,
   "id": "b7740f17",
   "metadata": {},
   "outputs": [],
   "source": [
    "train_MAEs = []\n",
    "train_RMSEs = []\n",
    "train_R2s = []\n",
    "\n",
    "test_MAEs = []\n",
    "test_RMSEs = []\n",
    "test_R2s = []\n",
    "\n",
    "for model in models:\n",
    "    ## Train model\n",
    "    model.fit(X_train, y_train)\n",
    "    ## Make predictions\n",
    "    y_train_pred = model.predict(X_train)\n",
    "    y_test_pred = model.predict(X_test)\n",
    "    ## Evaluate train and test\n",
    "    train_mae, _, train_rmse, train_r2 = evaluate_model(y_train, y_train_pred)\n",
    "    test_mae, _, test_rmse, test_r2 = evaluate_model(y_test, y_test_pred)\n",
    "    ## Append results\n",
    "    train_MAEs.append(train_mae)\n",
    "    train_RMSEs.append(train_rmse)\n",
    "    train_R2s.append(train_r2)\n",
    "\n",
    "    test_MAEs.append(test_mae)\n",
    "    test_RMSEs.append(test_rmse)\n",
    "    test_R2s.append(test_r2)"
   ]
  },
  {
   "cell_type": "code",
   "execution_count": 102,
   "id": "5084d98f",
   "metadata": {},
   "outputs": [
    {
     "data": {
      "text/html": [
       "<div>\n",
       "<style scoped>\n",
       "    .dataframe tbody tr th:only-of-type {\n",
       "        vertical-align: middle;\n",
       "    }\n",
       "\n",
       "    .dataframe tbody tr th {\n",
       "        vertical-align: top;\n",
       "    }\n",
       "\n",
       "    .dataframe thead th {\n",
       "        text-align: right;\n",
       "    }\n",
       "</style>\n",
       "<table border=\"1\" class=\"dataframe\">\n",
       "  <thead>\n",
       "    <tr style=\"text-align: right;\">\n",
       "      <th></th>\n",
       "      <th>Model</th>\n",
       "      <th>Train_MAE</th>\n",
       "      <th>Train_RMSE</th>\n",
       "      <th>Train_R2</th>\n",
       "      <th>Test_MAE</th>\n",
       "      <th>Test_RMSE</th>\n",
       "      <th>Test_R2</th>\n",
       "    </tr>\n",
       "  </thead>\n",
       "  <tbody>\n",
       "    <tr>\n",
       "      <th>10</th>\n",
       "      <td>Gradient Boosting</td>\n",
       "      <td>34872.557160</td>\n",
       "      <td>49473.681023</td>\n",
       "      <td>0.779885</td>\n",
       "      <td>35576.511378</td>\n",
       "      <td>50711.927717</td>\n",
       "      <td>0.765277</td>\n",
       "    </tr>\n",
       "    <tr>\n",
       "      <th>8</th>\n",
       "      <td>CatBoosting</td>\n",
       "      <td>33188.102361</td>\n",
       "      <td>47043.549807</td>\n",
       "      <td>0.800978</td>\n",
       "      <td>35704.318032</td>\n",
       "      <td>50944.136099</td>\n",
       "      <td>0.763122</td>\n",
       "    </tr>\n",
       "    <tr>\n",
       "      <th>7</th>\n",
       "      <td>XGBoost</td>\n",
       "      <td>32222.242354</td>\n",
       "      <td>45869.777807</td>\n",
       "      <td>0.810785</td>\n",
       "      <td>36273.512425</td>\n",
       "      <td>51903.821304</td>\n",
       "      <td>0.754114</td>\n",
       "    </tr>\n",
       "    <tr>\n",
       "      <th>1</th>\n",
       "      <td>Lasso</td>\n",
       "      <td>36783.895926</td>\n",
       "      <td>51902.170036</td>\n",
       "      <td>0.757745</td>\n",
       "      <td>36886.919599</td>\n",
       "      <td>52597.909955</td>\n",
       "      <td>0.747493</td>\n",
       "    </tr>\n",
       "    <tr>\n",
       "      <th>2</th>\n",
       "      <td>Ridge</td>\n",
       "      <td>36784.417807</td>\n",
       "      <td>51902.175953</td>\n",
       "      <td>0.757745</td>\n",
       "      <td>36887.543530</td>\n",
       "      <td>52597.954719</td>\n",
       "      <td>0.747493</td>\n",
       "    </tr>\n",
       "    <tr>\n",
       "      <th>0</th>\n",
       "      <td>Linear</td>\n",
       "      <td>36793.457437</td>\n",
       "      <td>51906.122942</td>\n",
       "      <td>0.757708</td>\n",
       "      <td>36890.212305</td>\n",
       "      <td>52605.612967</td>\n",
       "      <td>0.747419</td>\n",
       "    </tr>\n",
       "    <tr>\n",
       "      <th>9</th>\n",
       "      <td>AdaBoost</td>\n",
       "      <td>37725.319304</td>\n",
       "      <td>52819.872218</td>\n",
       "      <td>0.749102</td>\n",
       "      <td>37812.001340</td>\n",
       "      <td>53283.334775</td>\n",
       "      <td>0.740869</td>\n",
       "    </tr>\n",
       "    <tr>\n",
       "      <th>6</th>\n",
       "      <td>Random Forest</td>\n",
       "      <td>30841.605763</td>\n",
       "      <td>43914.872826</td>\n",
       "      <td>0.826570</td>\n",
       "      <td>37276.512447</td>\n",
       "      <td>53347.802406</td>\n",
       "      <td>0.740242</td>\n",
       "    </tr>\n",
       "    <tr>\n",
       "      <th>4</th>\n",
       "      <td>K-Neighbors</td>\n",
       "      <td>35071.454886</td>\n",
       "      <td>49618.784055</td>\n",
       "      <td>0.778592</td>\n",
       "      <td>38052.465413</td>\n",
       "      <td>54195.695525</td>\n",
       "      <td>0.731919</td>\n",
       "    </tr>\n",
       "    <tr>\n",
       "      <th>5</th>\n",
       "      <td>Decision Tree</td>\n",
       "      <td>29470.203250</td>\n",
       "      <td>43299.705532</td>\n",
       "      <td>0.831395</td>\n",
       "      <td>38856.308392</td>\n",
       "      <td>56072.570566</td>\n",
       "      <td>0.713030</td>\n",
       "    </tr>\n",
       "    <tr>\n",
       "      <th>3</th>\n",
       "      <td>ElasticNet</td>\n",
       "      <td>52468.171789</td>\n",
       "      <td>68190.806559</td>\n",
       "      <td>0.581830</td>\n",
       "      <td>52800.807772</td>\n",
       "      <td>68224.331088</td>\n",
       "      <td>0.575171</td>\n",
       "    </tr>\n",
       "  </tbody>\n",
       "</table>\n",
       "</div>"
      ],
      "text/plain": [
       "                Model     Train_MAE    Train_RMSE  Train_R2      Test_MAE  \\\n",
       "10  Gradient Boosting  34872.557160  49473.681023  0.779885  35576.511378   \n",
       "8         CatBoosting  33188.102361  47043.549807  0.800978  35704.318032   \n",
       "7             XGBoost  32222.242354  45869.777807  0.810785  36273.512425   \n",
       "1               Lasso  36783.895926  51902.170036  0.757745  36886.919599   \n",
       "2               Ridge  36784.417807  51902.175953  0.757745  36887.543530   \n",
       "0              Linear  36793.457437  51906.122942  0.757708  36890.212305   \n",
       "9            AdaBoost  37725.319304  52819.872218  0.749102  37812.001340   \n",
       "6       Random Forest  30841.605763  43914.872826  0.826570  37276.512447   \n",
       "4         K-Neighbors  35071.454886  49618.784055  0.778592  38052.465413   \n",
       "5       Decision Tree  29470.203250  43299.705532  0.831395  38856.308392   \n",
       "3          ElasticNet  52468.171789  68190.806559  0.581830  52800.807772   \n",
       "\n",
       "       Test_RMSE   Test_R2  \n",
       "10  50711.927717  0.765277  \n",
       "8   50944.136099  0.763122  \n",
       "7   51903.821304  0.754114  \n",
       "1   52597.909955  0.747493  \n",
       "2   52597.954719  0.747493  \n",
       "0   52605.612967  0.747419  \n",
       "9   53283.334775  0.740869  \n",
       "6   53347.802406  0.740242  \n",
       "4   54195.695525  0.731919  \n",
       "5   56072.570566  0.713030  \n",
       "3   68224.331088  0.575171  "
      ]
     },
     "execution_count": 102,
     "metadata": {},
     "output_type": "execute_result"
    }
   ],
   "source": [
    "results = pd.DataFrame(\n",
    "    list(zip(model_type, \n",
    "             train_MAEs, train_RMSEs, train_R2s,\n",
    "             test_MAEs, test_RMSEs, test_R2s)),\n",
    "    columns=[\"Model\",\n",
    "             \"Train_MAE\", \"Train_RMSE\", \"Train_R2\",\n",
    "             \"Test_MAE\", \"Test_RMSE\", \"Test_R2\"]\n",
    ").sort_values(by=[\"Test_R2\"],ascending=False)\n",
    "results"
   ]
  }
 ],
 "metadata": {
  "kernelspec": {
   "display_name": "Python 3 (ipykernel)",
   "language": "python",
   "name": "python3"
  },
  "language_info": {
   "codemirror_mode": {
    "name": "ipython",
    "version": 3
   },
   "file_extension": ".py",
   "mimetype": "text/x-python",
   "name": "python",
   "nbconvert_exporter": "python",
   "pygments_lexer": "ipython3",
   "version": "3.10.2"
  }
 },
 "nbformat": 4,
 "nbformat_minor": 5
}
