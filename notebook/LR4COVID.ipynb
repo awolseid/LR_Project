{
 "cells": [
  {
   "cell_type": "markdown",
   "id": "fd85e4db",
   "metadata": {},
   "source": [
    "## Impact of COVID19"
   ]
  },
  {
   "cell_type": "markdown",
   "id": "d6f961aa-d6dc-4d59-9e8c-04f04921b237",
   "metadata": {},
   "source": [
    "### EDA"
   ]
  },
  {
   "cell_type": "code",
   "execution_count": 1,
   "id": "affa842b-626f-4091-93e9-79a40acb9444",
   "metadata": {},
   "outputs": [],
   "source": [
    "import numpy as np\n",
    "import pandas as pd\n",
    "import seaborn as sns\n",
    "import matplotlib.pyplot as plt\n",
    "%matplotlib inline\n",
    "import warnings\n",
    "warnings.filterwarnings('ignore')"
   ]
  },
  {
   "cell_type": "code",
   "execution_count": 2,
   "id": "54039df0-522c-4735-b673-c9fc49ced2b8",
   "metadata": {},
   "outputs": [
    {
     "data": {
      "text/html": [
       "<div>\n",
       "<style scoped>\n",
       "    .dataframe tbody tr th:only-of-type {\n",
       "        vertical-align: middle;\n",
       "    }\n",
       "\n",
       "    .dataframe tbody tr th {\n",
       "        vertical-align: top;\n",
       "    }\n",
       "\n",
       "    .dataframe thead th {\n",
       "        text-align: right;\n",
       "    }\n",
       "</style>\n",
       "<table border=\"1\" class=\"dataframe\">\n",
       "  <thead>\n",
       "    <tr style=\"text-align: right;\">\n",
       "      <th></th>\n",
       "      <th>UniqueID</th>\n",
       "      <th>Sex</th>\n",
       "      <th>Age</th>\n",
       "      <th>Marital</th>\n",
       "      <th>Education</th>\n",
       "      <th>Employment</th>\n",
       "      <th>Income</th>\n",
       "      <th>NumRooms</th>\n",
       "      <th>FamilyImpact</th>\n",
       "      <th>PsychoImpact</th>\n",
       "      <th>EconomicImpact</th>\n",
       "    </tr>\n",
       "  </thead>\n",
       "  <tbody>\n",
       "    <tr>\n",
       "      <th>0</th>\n",
       "      <td>434</td>\n",
       "      <td>Male</td>\n",
       "      <td>26</td>\n",
       "      <td>Single</td>\n",
       "      <td>Graduates</td>\n",
       "      <td>Unemployed</td>\n",
       "      <td>No Income</td>\n",
       "      <td>1</td>\n",
       "      <td>0.000000</td>\n",
       "      <td>9.230769</td>\n",
       "      <td>60</td>\n",
       "    </tr>\n",
       "    <tr>\n",
       "      <th>1</th>\n",
       "      <td>747</td>\n",
       "      <td>Male</td>\n",
       "      <td>29</td>\n",
       "      <td>Single</td>\n",
       "      <td>Graduates</td>\n",
       "      <td>Employed (govt or private)</td>\n",
       "      <td>3201-7800</td>\n",
       "      <td>1</td>\n",
       "      <td>7.272727</td>\n",
       "      <td>12.307693</td>\n",
       "      <td>66</td>\n",
       "    </tr>\n",
       "    <tr>\n",
       "      <th>2</th>\n",
       "      <td>750</td>\n",
       "      <td>Male</td>\n",
       "      <td>21</td>\n",
       "      <td>Single</td>\n",
       "      <td>Grade 9-12</td>\n",
       "      <td>Other (student, retired, housewife)</td>\n",
       "      <td>No Income</td>\n",
       "      <td>2</td>\n",
       "      <td>5.454545</td>\n",
       "      <td>12.307693</td>\n",
       "      <td>72</td>\n",
       "    </tr>\n",
       "    <tr>\n",
       "      <th>3</th>\n",
       "      <td>257</td>\n",
       "      <td>Female</td>\n",
       "      <td>28</td>\n",
       "      <td>Married</td>\n",
       "      <td>Grade 1-8</td>\n",
       "      <td>Unemployed</td>\n",
       "      <td>No Income</td>\n",
       "      <td>1</td>\n",
       "      <td>5.454545</td>\n",
       "      <td>13.846154</td>\n",
       "      <td>44</td>\n",
       "    </tr>\n",
       "    <tr>\n",
       "      <th>4</th>\n",
       "      <td>179</td>\n",
       "      <td>Female</td>\n",
       "      <td>29</td>\n",
       "      <td>Single</td>\n",
       "      <td>Graduates</td>\n",
       "      <td>Employed (govt or private)</td>\n",
       "      <td>1651-3200</td>\n",
       "      <td>1</td>\n",
       "      <td>7.272727</td>\n",
       "      <td>18.461538</td>\n",
       "      <td>50</td>\n",
       "    </tr>\n",
       "    <tr>\n",
       "      <th>...</th>\n",
       "      <td>...</td>\n",
       "      <td>...</td>\n",
       "      <td>...</td>\n",
       "      <td>...</td>\n",
       "      <td>...</td>\n",
       "      <td>...</td>\n",
       "      <td>...</td>\n",
       "      <td>...</td>\n",
       "      <td>...</td>\n",
       "      <td>...</td>\n",
       "      <td>...</td>\n",
       "    </tr>\n",
       "    <tr>\n",
       "      <th>757</th>\n",
       "      <td>715</td>\n",
       "      <td>Female</td>\n",
       "      <td>32</td>\n",
       "      <td>Married</td>\n",
       "      <td>Grade 1-8</td>\n",
       "      <td>Unemployed</td>\n",
       "      <td>No Income</td>\n",
       "      <td>1</td>\n",
       "      <td>49.090908</td>\n",
       "      <td>44.615383</td>\n",
       "      <td>72</td>\n",
       "    </tr>\n",
       "    <tr>\n",
       "      <th>758</th>\n",
       "      <td>716</td>\n",
       "      <td>Male</td>\n",
       "      <td>32</td>\n",
       "      <td>Married</td>\n",
       "      <td>Graduates</td>\n",
       "      <td>Employed (govt or private)</td>\n",
       "      <td>1651-3200</td>\n",
       "      <td>2</td>\n",
       "      <td>49.090908</td>\n",
       "      <td>44.615383</td>\n",
       "      <td>56</td>\n",
       "    </tr>\n",
       "    <tr>\n",
       "      <th>759</th>\n",
       "      <td>717</td>\n",
       "      <td>Female</td>\n",
       "      <td>24</td>\n",
       "      <td>Married</td>\n",
       "      <td>Grade 1-8</td>\n",
       "      <td>Laid off due to COVID-19</td>\n",
       "      <td>No Income</td>\n",
       "      <td>1</td>\n",
       "      <td>49.090908</td>\n",
       "      <td>46.153847</td>\n",
       "      <td>60</td>\n",
       "    </tr>\n",
       "    <tr>\n",
       "      <th>760</th>\n",
       "      <td>450</td>\n",
       "      <td>Male</td>\n",
       "      <td>30</td>\n",
       "      <td>Single</td>\n",
       "      <td>Graduates</td>\n",
       "      <td>Employed (govt or private)</td>\n",
       "      <td>&gt;=7801</td>\n",
       "      <td>1</td>\n",
       "      <td>60.000000</td>\n",
       "      <td>13.846154</td>\n",
       "      <td>52</td>\n",
       "    </tr>\n",
       "    <tr>\n",
       "      <th>761</th>\n",
       "      <td>198</td>\n",
       "      <td>Male</td>\n",
       "      <td>35</td>\n",
       "      <td>Single</td>\n",
       "      <td>Graduates</td>\n",
       "      <td>Employed (govt or private)</td>\n",
       "      <td>&gt;=7801</td>\n",
       "      <td>1</td>\n",
       "      <td>43.636364</td>\n",
       "      <td>20.000000</td>\n",
       "      <td>40</td>\n",
       "    </tr>\n",
       "  </tbody>\n",
       "</table>\n",
       "<p>762 rows × 11 columns</p>\n",
       "</div>"
      ],
      "text/plain": [
       "     UniqueID     Sex  Age  Marital   Education  \\\n",
       "0         434    Male   26   Single   Graduates   \n",
       "1         747    Male   29   Single   Graduates   \n",
       "2         750    Male   21   Single  Grade 9-12   \n",
       "3         257  Female   28  Married   Grade 1-8   \n",
       "4         179  Female   29   Single   Graduates   \n",
       "..        ...     ...  ...      ...         ...   \n",
       "757       715  Female   32  Married   Grade 1-8   \n",
       "758       716    Male   32  Married   Graduates   \n",
       "759       717  Female   24  Married   Grade 1-8   \n",
       "760       450    Male   30   Single   Graduates   \n",
       "761       198    Male   35   Single   Graduates   \n",
       "\n",
       "                              Employment     Income  NumRooms  FamilyImpact  \\\n",
       "0                             Unemployed  No Income         1      0.000000   \n",
       "1             Employed (govt or private)  3201-7800         1      7.272727   \n",
       "2    Other (student, retired, housewife)  No Income         2      5.454545   \n",
       "3                             Unemployed  No Income         1      5.454545   \n",
       "4             Employed (govt or private)  1651-3200         1      7.272727   \n",
       "..                                   ...        ...       ...           ...   \n",
       "757                           Unemployed  No Income         1     49.090908   \n",
       "758           Employed (govt or private)  1651-3200         2     49.090908   \n",
       "759             Laid off due to COVID-19  No Income         1     49.090908   \n",
       "760           Employed (govt or private)     >=7801         1     60.000000   \n",
       "761           Employed (govt or private)     >=7801         1     43.636364   \n",
       "\n",
       "     PsychoImpact  EconomicImpact  \n",
       "0        9.230769              60  \n",
       "1       12.307693              66  \n",
       "2       12.307693              72  \n",
       "3       13.846154              44  \n",
       "4       18.461538              50  \n",
       "..            ...             ...  \n",
       "757     44.615383              72  \n",
       "758     44.615383              56  \n",
       "759     46.153847              60  \n",
       "760     13.846154              52  \n",
       "761     20.000000              40  \n",
       "\n",
       "[762 rows x 11 columns]"
      ]
     },
     "execution_count": 2,
     "metadata": {},
     "output_type": "execute_result"
    }
   ],
   "source": [
    "df=pd.read_csv(\"data/ImpactCOVID.csv\")\n",
    "df"
   ]
  },
  {
   "cell_type": "code",
   "execution_count": 3,
   "id": "86c7676c-b350-43c7-ac14-b4ed0ef49cc7",
   "metadata": {},
   "outputs": [
    {
     "data": {
      "text/plain": [
       "(762, 11)"
      ]
     },
     "execution_count": 3,
     "metadata": {},
     "output_type": "execute_result"
    }
   ],
   "source": [
    "## check for number of variables and observations\n",
    "df.shape"
   ]
  },
  {
   "cell_type": "code",
   "execution_count": 4,
   "id": "bc56ebc6-81ee-45d1-bbed-1ca2f8909ed0",
   "metadata": {},
   "outputs": [
    {
     "data": {
      "text/plain": [
       "UniqueID          0\n",
       "Sex               0\n",
       "Age               0\n",
       "Marital           0\n",
       "Education         0\n",
       "Employment        0\n",
       "Income            0\n",
       "NumRooms          0\n",
       "FamilyImpact      0\n",
       "PsychoImpact      0\n",
       "EconomicImpact    0\n",
       "dtype: int64"
      ]
     },
     "execution_count": 4,
     "metadata": {},
     "output_type": "execute_result"
    }
   ],
   "source": [
    "## check missing values\n",
    "df.isna().sum()"
   ]
  },
  {
   "cell_type": "code",
   "execution_count": 5,
   "id": "9e7b619b-cbe1-4a45-ad87-2e9362c86b21",
   "metadata": {},
   "outputs": [
    {
     "data": {
      "text/plain": [
       "0"
      ]
     },
     "execution_count": 5,
     "metadata": {},
     "output_type": "execute_result"
    }
   ],
   "source": [
    "## check duplicates\n",
    "df.duplicated(subset=['UniqueID']).sum()"
   ]
  },
  {
   "cell_type": "code",
   "execution_count": 6,
   "id": "6956ca75-6dfa-409c-8528-9d51dcea2cef",
   "metadata": {},
   "outputs": [
    {
     "name": "stdout",
     "output_type": "stream",
     "text": [
      "<class 'pandas.core.frame.DataFrame'>\n",
      "RangeIndex: 762 entries, 0 to 761\n",
      "Data columns (total 11 columns):\n",
      " #   Column          Non-Null Count  Dtype  \n",
      "---  ------          --------------  -----  \n",
      " 0   UniqueID        762 non-null    int64  \n",
      " 1   Sex             762 non-null    object \n",
      " 2   Age             762 non-null    int64  \n",
      " 3   Marital         762 non-null    object \n",
      " 4   Education       762 non-null    object \n",
      " 5   Employment      762 non-null    object \n",
      " 6   Income          762 non-null    object \n",
      " 7   NumRooms        762 non-null    int64  \n",
      " 8   FamilyImpact    762 non-null    float64\n",
      " 9   PsychoImpact    762 non-null    float64\n",
      " 10  EconomicImpact  762 non-null    int64  \n",
      "dtypes: float64(2), int64(4), object(5)\n",
      "memory usage: 65.6+ KB\n"
     ]
    }
   ],
   "source": [
    "## check for datatypes\n",
    "df.info()"
   ]
  },
  {
   "cell_type": "code",
   "execution_count": 7,
   "id": "7df1f72c-5152-4cef-8717-e5a9c58c4907",
   "metadata": {},
   "outputs": [
    {
     "data": {
      "text/plain": [
       "UniqueID          762\n",
       "Sex                 2\n",
       "Age                58\n",
       "Marital             3\n",
       "Education           4\n",
       "Employment          5\n",
       "Income              6\n",
       "NumRooms            9\n",
       "FamilyImpact       33\n",
       "PsychoImpact       47\n",
       "EconomicImpact     33\n",
       "dtype: int64"
      ]
     },
     "execution_count": 7,
     "metadata": {},
     "output_type": "execute_result"
    }
   ],
   "source": [
    "## check unique values for each variable\n",
    "df.nunique()"
   ]
  },
  {
   "cell_type": "code",
   "execution_count": 8,
   "id": "84bafadc-3b61-4679-8417-9b39b1e4e40b",
   "metadata": {},
   "outputs": [
    {
     "data": {
      "text/html": [
       "<div>\n",
       "<style scoped>\n",
       "    .dataframe tbody tr th:only-of-type {\n",
       "        vertical-align: middle;\n",
       "    }\n",
       "\n",
       "    .dataframe tbody tr th {\n",
       "        vertical-align: top;\n",
       "    }\n",
       "\n",
       "    .dataframe thead th {\n",
       "        text-align: right;\n",
       "    }\n",
       "</style>\n",
       "<table border=\"1\" class=\"dataframe\">\n",
       "  <thead>\n",
       "    <tr style=\"text-align: right;\">\n",
       "      <th></th>\n",
       "      <th>UniqueID</th>\n",
       "      <th>Age</th>\n",
       "      <th>NumRooms</th>\n",
       "      <th>FamilyImpact</th>\n",
       "      <th>PsychoImpact</th>\n",
       "      <th>EconomicImpact</th>\n",
       "    </tr>\n",
       "  </thead>\n",
       "  <tbody>\n",
       "    <tr>\n",
       "      <th>count</th>\n",
       "      <td>762.000000</td>\n",
       "      <td>762.000000</td>\n",
       "      <td>762.000000</td>\n",
       "      <td>762.000000</td>\n",
       "      <td>762.000000</td>\n",
       "      <td>762.000000</td>\n",
       "    </tr>\n",
       "    <tr>\n",
       "      <th>mean</th>\n",
       "      <td>410.456693</td>\n",
       "      <td>37.780840</td>\n",
       "      <td>1.912073</td>\n",
       "      <td>28.649487</td>\n",
       "      <td>22.570160</td>\n",
       "      <td>53.574803</td>\n",
       "    </tr>\n",
       "    <tr>\n",
       "      <th>std</th>\n",
       "      <td>236.563191</td>\n",
       "      <td>13.187738</td>\n",
       "      <td>1.170772</td>\n",
       "      <td>13.967132</td>\n",
       "      <td>15.530124</td>\n",
       "      <td>12.651928</td>\n",
       "    </tr>\n",
       "    <tr>\n",
       "      <th>min</th>\n",
       "      <td>1.000000</td>\n",
       "      <td>18.000000</td>\n",
       "      <td>1.000000</td>\n",
       "      <td>0.000000</td>\n",
       "      <td>0.000000</td>\n",
       "      <td>8.000000</td>\n",
       "    </tr>\n",
       "    <tr>\n",
       "      <th>25%</th>\n",
       "      <td>205.250000</td>\n",
       "      <td>28.000000</td>\n",
       "      <td>1.000000</td>\n",
       "      <td>18.181818</td>\n",
       "      <td>10.769231</td>\n",
       "      <td>44.000000</td>\n",
       "    </tr>\n",
       "    <tr>\n",
       "      <th>50%</th>\n",
       "      <td>411.500000</td>\n",
       "      <td>35.000000</td>\n",
       "      <td>2.000000</td>\n",
       "      <td>25.454546</td>\n",
       "      <td>16.923077</td>\n",
       "      <td>54.000000</td>\n",
       "    </tr>\n",
       "    <tr>\n",
       "      <th>75%</th>\n",
       "      <td>614.750000</td>\n",
       "      <td>45.000000</td>\n",
       "      <td>2.000000</td>\n",
       "      <td>38.181820</td>\n",
       "      <td>32.307693</td>\n",
       "      <td>64.000000</td>\n",
       "    </tr>\n",
       "    <tr>\n",
       "      <th>max</th>\n",
       "      <td>817.000000</td>\n",
       "      <td>85.000000</td>\n",
       "      <td>9.000000</td>\n",
       "      <td>61.818180</td>\n",
       "      <td>80.000000</td>\n",
       "      <td>80.000000</td>\n",
       "    </tr>\n",
       "  </tbody>\n",
       "</table>\n",
       "</div>"
      ],
      "text/plain": [
       "         UniqueID         Age    NumRooms  FamilyImpact  PsychoImpact  \\\n",
       "count  762.000000  762.000000  762.000000    762.000000    762.000000   \n",
       "mean   410.456693   37.780840    1.912073     28.649487     22.570160   \n",
       "std    236.563191   13.187738    1.170772     13.967132     15.530124   \n",
       "min      1.000000   18.000000    1.000000      0.000000      0.000000   \n",
       "25%    205.250000   28.000000    1.000000     18.181818     10.769231   \n",
       "50%    411.500000   35.000000    2.000000     25.454546     16.923077   \n",
       "75%    614.750000   45.000000    2.000000     38.181820     32.307693   \n",
       "max    817.000000   85.000000    9.000000     61.818180     80.000000   \n",
       "\n",
       "       EconomicImpact  \n",
       "count      762.000000  \n",
       "mean        53.574803  \n",
       "std         12.651928  \n",
       "min          8.000000  \n",
       "25%         44.000000  \n",
       "50%         54.000000  \n",
       "75%         64.000000  \n",
       "max         80.000000  "
      ]
     },
     "execution_count": 8,
     "metadata": {},
     "output_type": "execute_result"
    }
   ],
   "source": [
    "## Descriptive stat\n",
    "\n",
    "df.describe()"
   ]
  },
  {
   "cell_type": "code",
   "execution_count": 9,
   "id": "68d03176-2e2a-4625-b14c-2402926b004a",
   "metadata": {},
   "outputs": [
    {
     "name": "stdout",
     "output_type": "stream",
     "text": [
      "5 ['Sex', 'Marital', 'Education', 'Employment', 'Income']\n",
      "6 ['UniqueID', 'Age', 'NumRooms', 'FamilyImpact', 'PsychoImpact', 'EconomicImpact']\n"
     ]
    }
   ],
   "source": [
    "## Number of catgorical and numerical features\n",
    "categirical_features = [f for f in df.columns if df[f].dtype == \"O\"] # \"O\" -> Object\n",
    "num_categirical_features = len(categirical_features)\n",
    "numeric_features = [f for f in df.columns if df[f].dtype != \"O\"]\n",
    "num_numeric_features = len(numeric_features)\n",
    "\n",
    "print(num_categirical_features, categirical_features)\n",
    "print(num_numeric_features, numeric_features)"
   ]
  },
  {
   "cell_type": "code",
   "execution_count": 10,
   "id": "2214f8ac",
   "metadata": {},
   "outputs": [
    {
     "name": "stdout",
     "output_type": "stream",
     "text": [
      "Index(['Sex', 'Marital', 'Education', 'Employment', 'Income'], dtype='object')\n",
      "Index(['UniqueID', 'Age', 'NumRooms', 'FamilyImpact', 'PsychoImpact',\n",
      "       'EconomicImpact'],\n",
      "      dtype='object')\n"
     ]
    }
   ],
   "source": [
    "categorical_features = df.select_dtypes(include=\"object\").columns\n",
    "print(categorical_features)\n",
    "numeric_features = df.select_dtypes(exclude=\"object\").columns\n",
    "print(numeric_features)"
   ]
  },
  {
   "cell_type": "markdown",
   "id": "d402bb1c-6435-445b-9d6c-cbc7b511807d",
   "metadata": {},
   "source": [
    "### Histogram and KDE"
   ]
  },
  {
   "cell_type": "code",
   "execution_count": 11,
   "id": "6ed57821-09cc-4991-b8e5-9080181bfbcd",
   "metadata": {},
   "outputs": [
    {
     "data": {
      "image/png": "[encoded data removed]",
      "text/plain": [
       "<Figure size 1500x700 with 2 Axes>"
      ]
     },
     "metadata": {},
     "output_type": "display_data"
    }
   ],
   "source": [
    "fig, axs = plt.subplots(1, 2, figsize=(15, 7))\n",
    "plt.subplot(121)\n",
    "sns.histplot(data=df, x='FamilyImpact', bins=30, kde=True, color='g')\n",
    "plt.subplot(122)\n",
    "sns.histplot(data=df, x='FamilyImpact', kde=True, hue='Sex')\n",
    "plt.show()"
   ]
  },
  {
   "cell_type": "code",
   "execution_count": null,
   "id": "fd8e63bd-29f9-45c1-890c-dbdd77335bd8",
   "metadata": {},
   "outputs": [],
   "source": []
  },
  {
   "cell_type": "code",
   "execution_count": 12,
   "id": "d31aec48-1173-497e-a280-a6e3278d4135",
   "metadata": {},
   "outputs": [
    {
     "data": {
      "image/png": "[encoded data removed]",
      "text/plain": [
       "<Figure size 1500x700 with 2 Axes>"
      ]
     },
     "metadata": {},
     "output_type": "display_data"
    }
   ],
   "source": [
    "fig, axs = plt.subplots(1, 2, figsize=(15, 7))\n",
    "plt.subplot(121)\n",
    "sns.histplot(data=df, x='PsychoImpact', bins=30, kde=True, color='g')\n",
    "plt.subplot(122)\n",
    "sns.histplot(data=df, x='PsychoImpact', kde=True, hue='Sex')\n",
    "plt.show()"
   ]
  },
  {
   "cell_type": "code",
   "execution_count": 13,
   "id": "f76cb4ad-f083-498a-abfe-36ed51fcb820",
   "metadata": {},
   "outputs": [
    {
     "data": {
      "image/png": "[encoded data removed]",
      "text/plain": [
       "<Figure size 1500x700 with 2 Axes>"
      ]
     },
     "metadata": {},
     "output_type": "display_data"
    }
   ],
   "source": [
    "fig, axs = plt.subplots(1, 2, figsize=(15, 7))\n",
    "plt.subplot(121)\n",
    "sns.histplot(data=df, x='EconomicImpact', bins=30, kde=True, color='g')\n",
    "plt.subplot(122)\n",
    "sns.histplot(data=df, x='EconomicImpact', kde=True, hue='Sex')\n",
    "plt.show()"
   ]
  },
  {
   "cell_type": "markdown",
   "id": "a703444c-cbd2-46d5-97fa-c6a96e464d2a",
   "metadata": {},
   "source": [
    "* Females are more affected by COVID19 than males"
   ]
  },
  {
   "cell_type": "markdown",
   "id": "065c5fb4-d08e-40ab-9da2-2c31671dfd08",
   "metadata": {},
   "source": [
    "### Modeling"
   ]
  },
  {
   "cell_type": "code",
   "execution_count": 14,
   "id": "00bd4714-471d-4483-9e57-b8f36b0f988a",
   "metadata": {},
   "outputs": [
    {
     "name": "stdout",
     "output_type": "stream",
     "text": [
      "Requirement already satisfied: catboost in c:\\users\\esawo\\anaconda3\\lib\\site-packages (1.2.5)\n",
      "Requirement already satisfied: graphviz in c:\\users\\esawo\\anaconda3\\lib\\site-packages (from catboost) (0.20.3)\n",
      "Requirement already satisfied: matplotlib in c:\\users\\esawo\\anaconda3\\lib\\site-packages (from catboost) (3.8.4)\n",
      "Requirement already satisfied: numpy>=1.16.0 in c:\\users\\esawo\\anaconda3\\lib\\site-packages (from catboost) (1.26.4)\n",
      "Requirement already satisfied: pandas>=0.24 in c:\\users\\esawo\\anaconda3\\lib\\site-packages (from catboost) (1.3.4)\n",
      "Requirement already satisfied: scipy in c:\\users\\esawo\\anaconda3\\lib\\site-packages (from catboost) (1.13.0)\n",
      "Requirement already satisfied: plotly in c:\\users\\esawo\\anaconda3\\lib\\site-packages (from catboost) (5.19.0)\n",
      "Requirement already satisfied: six in c:\\users\\esawo\\anaconda3\\lib\\site-packages (from catboost) (1.16.0)\n",
      "Requirement already satisfied: python-dateutil>=2.7.3 in c:\\users\\esawo\\anaconda3\\lib\\site-packages (from pandas>=0.24->catboost) (2.8.2)\n",
      "Requirement already satisfied: pytz>=2017.3 in c:\\users\\esawo\\anaconda3\\lib\\site-packages (from pandas>=0.24->catboost) (2024.1)\n",
      "Requirement already satisfied: contourpy>=1.0.1 in c:\\users\\esawo\\anaconda3\\lib\\site-packages (from matplotlib->catboost) (1.2.0)\n",
      "Requirement already satisfied: cycler>=0.10 in c:\\users\\esawo\\anaconda3\\lib\\site-packages (from matplotlib->catboost) (0.11.0)\n",
      "Requirement already satisfied: fonttools>=4.22.0 in c:\\users\\esawo\\anaconda3\\lib\\site-packages (from matplotlib->catboost) (4.51.0)\n",
      "Requirement already satisfied: kiwisolver>=1.3.1 in c:\\users\\esawo\\anaconda3\\lib\\site-packages (from matplotlib->catboost) (1.4.4)\n",
      "Requirement already satisfied: packaging>=20.0 in c:\\users\\esawo\\anaconda3\\lib\\site-packages (from matplotlib->catboost) (23.2)\n",
      "Requirement already satisfied: pillow>=8 in c:\\users\\esawo\\anaconda3\\lib\\site-packages (from matplotlib->catboost) (10.2.0)\n",
      "Requirement already satisfied: pyparsing>=2.3.1 in c:\\users\\esawo\\anaconda3\\lib\\site-packages (from matplotlib->catboost) (3.0.9)\n",
      "Requirement already satisfied: importlib-resources>=3.2.0 in c:\\users\\esawo\\anaconda3\\lib\\site-packages (from matplotlib->catboost) (6.1.1)\n",
      "Requirement already satisfied: tenacity>=6.2.0 in c:\\users\\esawo\\anaconda3\\lib\\site-packages (from plotly->catboost) (8.2.2)\n",
      "Requirement already satisfied: zipp>=3.1.0 in c:\\users\\esawo\\anaconda3\\lib\\site-packages (from importlib-resources>=3.2.0->matplotlib->catboost) (3.17.0)\n",
      "Note: you may need to restart the kernel to use updated packages.\n"
     ]
    }
   ],
   "source": [
    "pip install catboost"
   ]
  },
  {
   "cell_type": "code",
   "execution_count": 15,
   "id": "09a9f036-af42-4e88-84ba-3432a8e16fd6",
   "metadata": {},
   "outputs": [
    {
     "name": "stdout",
     "output_type": "stream",
     "text": [
      "Requirement already satisfied: xgboost in c:\\users\\esawo\\anaconda3\\lib\\site-packages (2.0.3)\n",
      "Requirement already satisfied: numpy in c:\\users\\esawo\\anaconda3\\lib\\site-packages (from xgboost) (1.26.4)\n",
      "Requirement already satisfied: scipy in c:\\users\\esawo\\anaconda3\\lib\\site-packages (from xgboost) (1.13.0)\n",
      "Note: you may need to restart the kernel to use updated packages.\n"
     ]
    }
   ],
   "source": [
    "pip install xgboost"
   ]
  },
  {
   "cell_type": "code",
   "execution_count": 16,
   "id": "ab1897f2-c92f-45ec-b491-56143baedc45",
   "metadata": {},
   "outputs": [],
   "source": [
    "from sklearn.neighbors import KNeighborsRegressor\n",
    "from sklearn.tree import DecisionTreeRegressor\n",
    "from sklearn.ensemble import RandomForestRegressor, AdaBoostRegressor, GradientBoostingRegressor\n",
    "from sklearn.linear_model import LinearRegression, Ridge, Lasso, ElasticNet\n",
    "from catboost import CatBoostRegressor\n",
    "from xgboost import XGBRegressor\n",
    "from sklearn.metrics import mean_absolute_error, mean_squared_error, r2_score"
   ]
  },
  {
   "cell_type": "code",
   "execution_count": null,
   "id": "f069cd66",
   "metadata": {},
   "outputs": [],
   "source": []
  },
  {
   "cell_type": "code",
   "execution_count": 17,
   "id": "e1568be2-724b-45dd-b130-ec9d77d70aa9",
   "metadata": {},
   "outputs": [
    {
     "data": {
      "text/html": [
       "<div>\n",
       "<style scoped>\n",
       "    .dataframe tbody tr th:only-of-type {\n",
       "        vertical-align: middle;\n",
       "    }\n",
       "\n",
       "    .dataframe tbody tr th {\n",
       "        vertical-align: top;\n",
       "    }\n",
       "\n",
       "    .dataframe thead th {\n",
       "        text-align: right;\n",
       "    }\n",
       "</style>\n",
       "<table border=\"1\" class=\"dataframe\">\n",
       "  <thead>\n",
       "    <tr style=\"text-align: right;\">\n",
       "      <th></th>\n",
       "      <th>Sex</th>\n",
       "      <th>Age</th>\n",
       "      <th>Marital</th>\n",
       "      <th>Education</th>\n",
       "      <th>Employment</th>\n",
       "      <th>Income</th>\n",
       "      <th>NumRooms</th>\n",
       "    </tr>\n",
       "  </thead>\n",
       "  <tbody>\n",
       "    <tr>\n",
       "      <th>0</th>\n",
       "      <td>Male</td>\n",
       "      <td>26</td>\n",
       "      <td>Single</td>\n",
       "      <td>Graduates</td>\n",
       "      <td>Unemployed</td>\n",
       "      <td>No Income</td>\n",
       "      <td>1</td>\n",
       "    </tr>\n",
       "    <tr>\n",
       "      <th>1</th>\n",
       "      <td>Male</td>\n",
       "      <td>29</td>\n",
       "      <td>Single</td>\n",
       "      <td>Graduates</td>\n",
       "      <td>Employed (govt or private)</td>\n",
       "      <td>3201-7800</td>\n",
       "      <td>1</td>\n",
       "    </tr>\n",
       "    <tr>\n",
       "      <th>2</th>\n",
       "      <td>Male</td>\n",
       "      <td>21</td>\n",
       "      <td>Single</td>\n",
       "      <td>Grade 9-12</td>\n",
       "      <td>Other (student, retired, housewife)</td>\n",
       "      <td>No Income</td>\n",
       "      <td>2</td>\n",
       "    </tr>\n",
       "    <tr>\n",
       "      <th>3</th>\n",
       "      <td>Female</td>\n",
       "      <td>28</td>\n",
       "      <td>Married</td>\n",
       "      <td>Grade 1-8</td>\n",
       "      <td>Unemployed</td>\n",
       "      <td>No Income</td>\n",
       "      <td>1</td>\n",
       "    </tr>\n",
       "    <tr>\n",
       "      <th>4</th>\n",
       "      <td>Female</td>\n",
       "      <td>29</td>\n",
       "      <td>Single</td>\n",
       "      <td>Graduates</td>\n",
       "      <td>Employed (govt or private)</td>\n",
       "      <td>1651-3200</td>\n",
       "      <td>1</td>\n",
       "    </tr>\n",
       "    <tr>\n",
       "      <th>...</th>\n",
       "      <td>...</td>\n",
       "      <td>...</td>\n",
       "      <td>...</td>\n",
       "      <td>...</td>\n",
       "      <td>...</td>\n",
       "      <td>...</td>\n",
       "      <td>...</td>\n",
       "    </tr>\n",
       "    <tr>\n",
       "      <th>757</th>\n",
       "      <td>Female</td>\n",
       "      <td>32</td>\n",
       "      <td>Married</td>\n",
       "      <td>Grade 1-8</td>\n",
       "      <td>Unemployed</td>\n",
       "      <td>No Income</td>\n",
       "      <td>1</td>\n",
       "    </tr>\n",
       "    <tr>\n",
       "      <th>758</th>\n",
       "      <td>Male</td>\n",
       "      <td>32</td>\n",
       "      <td>Married</td>\n",
       "      <td>Graduates</td>\n",
       "      <td>Employed (govt or private)</td>\n",
       "      <td>1651-3200</td>\n",
       "      <td>2</td>\n",
       "    </tr>\n",
       "    <tr>\n",
       "      <th>759</th>\n",
       "      <td>Female</td>\n",
       "      <td>24</td>\n",
       "      <td>Married</td>\n",
       "      <td>Grade 1-8</td>\n",
       "      <td>Laid off due to COVID-19</td>\n",
       "      <td>No Income</td>\n",
       "      <td>1</td>\n",
       "    </tr>\n",
       "    <tr>\n",
       "      <th>760</th>\n",
       "      <td>Male</td>\n",
       "      <td>30</td>\n",
       "      <td>Single</td>\n",
       "      <td>Graduates</td>\n",
       "      <td>Employed (govt or private)</td>\n",
       "      <td>&gt;=7801</td>\n",
       "      <td>1</td>\n",
       "    </tr>\n",
       "    <tr>\n",
       "      <th>761</th>\n",
       "      <td>Male</td>\n",
       "      <td>35</td>\n",
       "      <td>Single</td>\n",
       "      <td>Graduates</td>\n",
       "      <td>Employed (govt or private)</td>\n",
       "      <td>&gt;=7801</td>\n",
       "      <td>1</td>\n",
       "    </tr>\n",
       "  </tbody>\n",
       "</table>\n",
       "<p>762 rows × 7 columns</p>\n",
       "</div>"
      ],
      "text/plain": [
       "        Sex  Age  Marital   Education                           Employment  \\\n",
       "0      Male   26   Single   Graduates                           Unemployed   \n",
       "1      Male   29   Single   Graduates           Employed (govt or private)   \n",
       "2      Male   21   Single  Grade 9-12  Other (student, retired, housewife)   \n",
       "3    Female   28  Married   Grade 1-8                           Unemployed   \n",
       "4    Female   29   Single   Graduates           Employed (govt or private)   \n",
       "..      ...  ...      ...         ...                                  ...   \n",
       "757  Female   32  Married   Grade 1-8                           Unemployed   \n",
       "758    Male   32  Married   Graduates           Employed (govt or private)   \n",
       "759  Female   24  Married   Grade 1-8             Laid off due to COVID-19   \n",
       "760    Male   30   Single   Graduates           Employed (govt or private)   \n",
       "761    Male   35   Single   Graduates           Employed (govt or private)   \n",
       "\n",
       "        Income  NumRooms  \n",
       "0    No Income         1  \n",
       "1    3201-7800         1  \n",
       "2    No Income         2  \n",
       "3    No Income         1  \n",
       "4    1651-3200         1  \n",
       "..         ...       ...  \n",
       "757  No Income         1  \n",
       "758  1651-3200         2  \n",
       "759  No Income         1  \n",
       "760     >=7801         1  \n",
       "761     >=7801         1  \n",
       "\n",
       "[762 rows x 7 columns]"
      ]
     },
     "execution_count": 17,
     "metadata": {},
     "output_type": "execute_result"
    }
   ],
   "source": [
    "X = df.drop(columns=[\"UniqueID\", \"FamilyImpact\", \"PsychoImpact\", \"EconomicImpact\"])\n",
    "X"
   ]
  },
  {
   "cell_type": "code",
   "execution_count": 18,
   "id": "4262e4cb-4a54-43ee-9e32-82c5f0f37723",
   "metadata": {},
   "outputs": [
    {
     "data": {
      "text/plain": [
       "0      60\n",
       "1      66\n",
       "2      72\n",
       "3      44\n",
       "4      50\n",
       "       ..\n",
       "757    72\n",
       "758    56\n",
       "759    60\n",
       "760    52\n",
       "761    40\n",
       "Name: EconomicImpact, Length: 762, dtype: int64"
      ]
     },
     "execution_count": 18,
     "metadata": {},
     "output_type": "execute_result"
    }
   ],
   "source": [
    "y = df[\"EconomicImpact\"]\n",
    "y"
   ]
  },
  {
   "cell_type": "markdown",
   "id": "20f697f3",
   "metadata": {},
   "source": [
    "### Feature Transformations"
   ]
  },
  {
   "cell_type": "code",
   "execution_count": 19,
   "id": "78ae16e4-7bf5-4c5e-a182-876881c071b6",
   "metadata": {},
   "outputs": [],
   "source": [
    "cat_features = X.select_dtypes(include=\"object\").columns\n",
    "num_features = X.select_dtypes(exclude=\"object\").columns"
   ]
  },
  {
   "cell_type": "code",
   "execution_count": 20,
   "id": "870105fe-2af6-4f49-a4ff-96a2b11cbb3a",
   "metadata": {},
   "outputs": [
    {
     "data": {
      "text/plain": [
       "(Index(['Sex', 'Marital', 'Education', 'Employment', 'Income'], dtype='object'),\n",
       " Index(['Age', 'NumRooms'], dtype='object'))"
      ]
     },
     "execution_count": 20,
     "metadata": {},
     "output_type": "execute_result"
    }
   ],
   "source": [
    "cat_features, num_features"
   ]
  },
  {
   "cell_type": "code",
   "execution_count": 21,
   "id": "6f50652e-4d56-4a84-b996-5dadeef220b4",
   "metadata": {},
   "outputs": [],
   "source": [
    "from sklearn.preprocessing import OneHotEncoder, StandardScaler\n",
    "from sklearn.compose import ColumnTransformer"
   ]
  },
  {
   "cell_type": "code",
   "execution_count": 22,
   "id": "f7c0a798",
   "metadata": {},
   "outputs": [],
   "source": [
    "numeric_transformer = StandardScaler()\n",
    "onehot_transformer = OneHotEncoder()"
   ]
  },
  {
   "cell_type": "code",
   "execution_count": 23,
   "id": "cdc9b64c",
   "metadata": {},
   "outputs": [
    {
     "name": "stdout",
     "output_type": "stream",
     "text": [
      "StandardScaler() OneHotEncoder()\n"
     ]
    }
   ],
   "source": [
    "print(numeric_transformer, onehot_transformer)"
   ]
  },
  {
   "cell_type": "code",
   "execution_count": 24,
   "id": "f10a4fe1",
   "metadata": {},
   "outputs": [],
   "source": [
    "preprocessor = ColumnTransformer([\n",
    "    (\"OneHotEncoder\", onehot_transformer, cat_features),\n",
    "    (\"StandardScaler\", numeric_transformer, num_features)\n",
    "    ])"
   ]
  },
  {
   "cell_type": "code",
   "execution_count": 25,
   "id": "d38ca1c3",
   "metadata": {},
   "outputs": [
    {
     "data": {
      "text/plain": [
       "array([[ 0.        ,  1.        ,  0.        , ...,  1.        ,\n",
       "        -0.89390447, -0.77954733],\n",
       "       [ 0.        ,  1.        ,  0.        , ...,  0.        ,\n",
       "        -0.66627101, -0.77954733],\n",
       "       [ 0.        ,  1.        ,  0.        , ...,  1.        ,\n",
       "        -1.27329358,  0.07515061],\n",
       "       ...,\n",
       "       [ 1.        ,  0.        ,  1.        , ...,  1.        ,\n",
       "        -1.04566012, -0.77954733],\n",
       "       [ 0.        ,  1.        ,  0.        , ...,  0.        ,\n",
       "        -0.59039318, -0.77954733],\n",
       "       [ 0.        ,  1.        ,  0.        , ...,  0.        ,\n",
       "        -0.21100407, -0.77954733]])"
      ]
     },
     "execution_count": 25,
     "metadata": {},
     "output_type": "execute_result"
    }
   ],
   "source": [
    "X = preprocessor.fit_transform(X)\n",
    "X"
   ]
  },
  {
   "cell_type": "code",
   "execution_count": 26,
   "id": "0806f464",
   "metadata": {},
   "outputs": [
    {
     "data": {
      "text/plain": [
       "(762, 22)"
      ]
     },
     "execution_count": 26,
     "metadata": {},
     "output_type": "execute_result"
    }
   ],
   "source": [
    "X.shape"
   ]
  },
  {
   "cell_type": "markdown",
   "id": "9d8d6321",
   "metadata": {},
   "source": [
    "### Train and Test Split"
   ]
  },
  {
   "cell_type": "code",
   "execution_count": 27,
   "id": "73d00fa0",
   "metadata": {},
   "outputs": [
    {
     "data": {
      "text/plain": [
       "((609, 22), (153, 22))"
      ]
     },
     "execution_count": 27,
     "metadata": {},
     "output_type": "execute_result"
    }
   ],
   "source": [
    "from sklearn.model_selection import train_test_split\n",
    "X_train, X_test, y_train, y_test = train_test_split(\n",
    "    X, \n",
    "    y, \n",
    "    test_size=0.2, \n",
    "    random_state=42\n",
    ")\n",
    "X_train.shape, X_test.shape"
   ]
  },
  {
   "cell_type": "code",
   "execution_count": 28,
   "id": "b43bc431",
   "metadata": {},
   "outputs": [],
   "source": [
    "def evaluate_model(actual, predicted):\n",
    "    MAE = mean_absolute_error(actual, predicted)\n",
    "    MSE = mean_squared_error(actual, predicted)\n",
    "    RMSE = np.sqrt(MSE)\n",
    "    R2 = r2_score(actual, predicted)    \n",
    "    return MAE, MSE, RMSE, R2"
   ]
  },
  {
   "cell_type": "code",
   "execution_count": 29,
   "id": "90218eb6",
   "metadata": {},
   "outputs": [],
   "source": [
    "models = {\n",
    "    ## Linear models\n",
    "    \"Linear\" : LinearRegression(),\n",
    "    \"Lasso\" : Lasso(),\n",
    "    \"Ridge\" : Ridge(),\n",
    "    \"ElasticNet\" : ElasticNet(),\n",
    "    ## Tree-based regressions\n",
    "    \"K-Neighbors\" : KNeighborsRegressor(),\n",
    "    \"Decision Tree\" : DecisionTreeRegressor(),\n",
    "    \"Random Forest\" : RandomForestRegressor(),\n",
    "    \"XGBoost\" : XGBRegressor(),\n",
    "    \"CatBoosting\" : CatBoostRegressor(verbose=False),\n",
    "    \"AdaBoost\": AdaBoostRegressor(),\n",
    "    \"Gradient Boosting\": GradientBoostingRegressor()\n",
    "}"
   ]
  },
  {
   "cell_type": "code",
   "execution_count": null,
   "id": "06b91c1f",
   "metadata": {},
   "outputs": [],
   "source": []
  },
  {
   "cell_type": "code",
   "execution_count": 30,
   "id": "1b2132d4",
   "metadata": {},
   "outputs": [
    {
     "data": {
      "text/plain": [
       "['Linear',\n",
       " 'Lasso',\n",
       " 'Ridge',\n",
       " 'ElasticNet',\n",
       " 'K-Neighbors',\n",
       " 'Decision Tree',\n",
       " 'Random Forest',\n",
       " 'XGBoost',\n",
       " 'CatBoosting',\n",
       " 'AdaBoost',\n",
       " 'Gradient Boosting']"
      ]
     },
     "execution_count": 30,
     "metadata": {},
     "output_type": "execute_result"
    }
   ],
   "source": [
    "num_models = len(models)\n",
    "model_type = list(models.keys())\n",
    "model_type"
   ]
  },
  {
   "cell_type": "code",
   "execution_count": 31,
   "id": "aebbfa56",
   "metadata": {},
   "outputs": [
    {
     "data": {
      "text/plain": [
       "[LinearRegression(),\n",
       " Lasso(),\n",
       " Ridge(),\n",
       " ElasticNet(),\n",
       " KNeighborsRegressor(),\n",
       " DecisionTreeRegressor(),\n",
       " RandomForestRegressor(),\n",
       " XGBRegressor(base_score=None, booster=None, callbacks=None,\n",
       "              colsample_bylevel=None, colsample_bynode=None,\n",
       "              colsample_bytree=None, device=None, early_stopping_rounds=None,\n",
       "              enable_categorical=False, eval_metric=None, feature_types=None,\n",
       "              gamma=None, grow_policy=None, importance_type=None,\n",
       "              interaction_constraints=None, learning_rate=None, max_bin=None,\n",
       "              max_cat_threshold=None, max_cat_to_onehot=None,\n",
       "              max_delta_step=None, max_depth=None, max_leaves=None,\n",
       "              min_child_weight=None, missing=nan, monotone_constraints=None,\n",
       "              multi_strategy=None, n_estimators=None, n_jobs=None,\n",
       "              num_parallel_tree=None, random_state=None, ...),\n",
       " <catboost.core.CatBoostRegressor at 0x1c976be0400>,\n",
       " AdaBoostRegressor(),\n",
       " GradientBoostingRegressor()]"
      ]
     },
     "execution_count": 31,
     "metadata": {},
     "output_type": "execute_result"
    }
   ],
   "source": [
    "models = list(models.values())\n",
    "models"
   ]
  },
  {
   "cell_type": "code",
   "execution_count": 32,
   "id": "b7740f17",
   "metadata": {},
   "outputs": [],
   "source": [
    "train_MAEs = []\n",
    "train_RMSEs = []\n",
    "train_R2s = []\n",
    "\n",
    "test_MAEs = []\n",
    "test_RMSEs = []\n",
    "test_R2s = []\n",
    "\n",
    "for model in models:\n",
    "    ## Train model\n",
    "    model.fit(X_train, y_train)\n",
    "    ## Make predictions\n",
    "    y_train_pred = model.predict(X_train)\n",
    "    y_test_pred = model.predict(X_test)\n",
    "    ## Evaluate train and test\n",
    "    train_mae, _, train_rmse, train_r2 = evaluate_model(y_train, y_train_pred)\n",
    "    test_mae, _, test_rmse, test_r2 = evaluate_model(y_test, y_test_pred)\n",
    "    ## Append results\n",
    "    train_MAEs.append(train_mae)\n",
    "    train_RMSEs.append(train_rmse)\n",
    "    train_R2s.append(train_r2)\n",
    "\n",
    "    test_MAEs.append(test_mae)\n",
    "    test_RMSEs.append(test_rmse)\n",
    "    test_R2s.append(test_r2)"
   ]
  },
  {
   "cell_type": "code",
   "execution_count": 33,
   "id": "5084d98f",
   "metadata": {},
   "outputs": [
    {
     "data": {
      "text/html": [
       "<div>\n",
       "<style scoped>\n",
       "    .dataframe tbody tr th:only-of-type {\n",
       "        vertical-align: middle;\n",
       "    }\n",
       "\n",
       "    .dataframe tbody tr th {\n",
       "        vertical-align: top;\n",
       "    }\n",
       "\n",
       "    .dataframe thead th {\n",
       "        text-align: right;\n",
       "    }\n",
       "</style>\n",
       "<table border=\"1\" class=\"dataframe\">\n",
       "  <thead>\n",
       "    <tr style=\"text-align: right;\">\n",
       "      <th></th>\n",
       "      <th>Model</th>\n",
       "      <th>Train_MAE</th>\n",
       "      <th>Train_RMSE</th>\n",
       "      <th>Train_R2</th>\n",
       "      <th>Test_MAE</th>\n",
       "      <th>Test_RMSE</th>\n",
       "      <th>Test_R2</th>\n",
       "    </tr>\n",
       "  </thead>\n",
       "  <tbody>\n",
       "    <tr>\n",
       "      <th>2</th>\n",
       "      <td>Ridge</td>\n",
       "      <td>9.753016</td>\n",
       "      <td>11.972291</td>\n",
       "      <td>0.107972</td>\n",
       "      <td>9.469648</td>\n",
       "      <td>11.921514</td>\n",
       "      <td>0.085025</td>\n",
       "    </tr>\n",
       "    <tr>\n",
       "      <th>0</th>\n",
       "      <td>Linear</td>\n",
       "      <td>9.750650</td>\n",
       "      <td>11.972209</td>\n",
       "      <td>0.107984</td>\n",
       "      <td>9.467184</td>\n",
       "      <td>11.923153</td>\n",
       "      <td>0.084773</td>\n",
       "    </tr>\n",
       "    <tr>\n",
       "      <th>9</th>\n",
       "      <td>AdaBoost</td>\n",
       "      <td>9.810622</td>\n",
       "      <td>11.790145</td>\n",
       "      <td>0.134908</td>\n",
       "      <td>9.916215</td>\n",
       "      <td>12.103501</td>\n",
       "      <td>0.056876</td>\n",
       "    </tr>\n",
       "    <tr>\n",
       "      <th>1</th>\n",
       "      <td>Lasso</td>\n",
       "      <td>10.259094</td>\n",
       "      <td>12.484249</td>\n",
       "      <td>0.030051</td>\n",
       "      <td>9.879699</td>\n",
       "      <td>12.251038</td>\n",
       "      <td>0.033744</td>\n",
       "    </tr>\n",
       "    <tr>\n",
       "      <th>3</th>\n",
       "      <td>ElasticNet</td>\n",
       "      <td>10.226958</td>\n",
       "      <td>12.440502</td>\n",
       "      <td>0.036837</td>\n",
       "      <td>9.887024</td>\n",
       "      <td>12.275031</td>\n",
       "      <td>0.029955</td>\n",
       "    </tr>\n",
       "    <tr>\n",
       "      <th>10</th>\n",
       "      <td>Gradient Boosting</td>\n",
       "      <td>7.960092</td>\n",
       "      <td>9.802844</td>\n",
       "      <td>0.401963</td>\n",
       "      <td>9.803986</td>\n",
       "      <td>12.494274</td>\n",
       "      <td>-0.005006</td>\n",
       "    </tr>\n",
       "    <tr>\n",
       "      <th>4</th>\n",
       "      <td>K-Neighbors</td>\n",
       "      <td>8.727750</td>\n",
       "      <td>10.844850</td>\n",
       "      <td>0.268067</td>\n",
       "      <td>10.062745</td>\n",
       "      <td>12.614381</td>\n",
       "      <td>-0.024421</td>\n",
       "    </tr>\n",
       "    <tr>\n",
       "      <th>8</th>\n",
       "      <td>CatBoosting</td>\n",
       "      <td>4.620773</td>\n",
       "      <td>6.056803</td>\n",
       "      <td>0.771697</td>\n",
       "      <td>10.199403</td>\n",
       "      <td>13.313908</td>\n",
       "      <td>-0.141189</td>\n",
       "    </tr>\n",
       "    <tr>\n",
       "      <th>6</th>\n",
       "      <td>Random Forest</td>\n",
       "      <td>3.901563</td>\n",
       "      <td>5.024242</td>\n",
       "      <td>0.842904</td>\n",
       "      <td>10.200651</td>\n",
       "      <td>13.495999</td>\n",
       "      <td>-0.172618</td>\n",
       "    </tr>\n",
       "    <tr>\n",
       "      <th>7</th>\n",
       "      <td>XGBoost</td>\n",
       "      <td>1.562568</td>\n",
       "      <td>2.777203</td>\n",
       "      <td>0.952000</td>\n",
       "      <td>11.564552</td>\n",
       "      <td>14.976465</td>\n",
       "      <td>-0.443993</td>\n",
       "    </tr>\n",
       "    <tr>\n",
       "      <th>5</th>\n",
       "      <td>Decision Tree</td>\n",
       "      <td>0.374603</td>\n",
       "      <td>2.060444</td>\n",
       "      <td>0.973579</td>\n",
       "      <td>12.596950</td>\n",
       "      <td>16.870604</td>\n",
       "      <td>-0.832347</td>\n",
       "    </tr>\n",
       "  </tbody>\n",
       "</table>\n",
       "</div>"
      ],
      "text/plain": [
       "                Model  Train_MAE  Train_RMSE  Train_R2   Test_MAE  Test_RMSE  \\\n",
       "2               Ridge   9.753016   11.972291  0.107972   9.469648  11.921514   \n",
       "0              Linear   9.750650   11.972209  0.107984   9.467184  11.923153   \n",
       "9            AdaBoost   9.810622   11.790145  0.134908   9.916215  12.103501   \n",
       "1               Lasso  10.259094   12.484249  0.030051   9.879699  12.251038   \n",
       "3          ElasticNet  10.226958   12.440502  0.036837   9.887024  12.275031   \n",
       "10  Gradient Boosting   7.960092    9.802844  0.401963   9.803986  12.494274   \n",
       "4         K-Neighbors   8.727750   10.844850  0.268067  10.062745  12.614381   \n",
       "8         CatBoosting   4.620773    6.056803  0.771697  10.199403  13.313908   \n",
       "6       Random Forest   3.901563    5.024242  0.842904  10.200651  13.495999   \n",
       "7             XGBoost   1.562568    2.777203  0.952000  11.564552  14.976465   \n",
       "5       Decision Tree   0.374603    2.060444  0.973579  12.596950  16.870604   \n",
       "\n",
       "     Test_R2  \n",
       "2   0.085025  \n",
       "0   0.084773  \n",
       "9   0.056876  \n",
       "1   0.033744  \n",
       "3   0.029955  \n",
       "10 -0.005006  \n",
       "4  -0.024421  \n",
       "8  -0.141189  \n",
       "6  -0.172618  \n",
       "7  -0.443993  \n",
       "5  -0.832347  "
      ]
     },
     "execution_count": 33,
     "metadata": {},
     "output_type": "execute_result"
    }
   ],
   "source": [
    "results = pd.DataFrame(\n",
    "    list(zip(model_type, \n",
    "             train_MAEs, train_RMSEs, train_R2s,\n",
    "             test_MAEs, test_RMSEs, test_R2s)),\n",
    "    columns=[\"Model\",\n",
    "             \"Train_MAE\", \"Train_RMSE\", \"Train_R2\",\n",
    "             \"Test_MAE\", \"Test_RMSE\", \"Test_R2\"]\n",
    ").sort_values(by=[\"Test_R2\"],ascending=False)\n",
    "results"
   ]
  }
 ],
 "metadata": {
  "kernelspec": {
   "display_name": "Python 3 (ipykernel)",
   "language": "python",
   "name": "python3"
  },
  "language_info": {
   "codemirror_mode": {
    "name": "ipython",
    "version": 3
   },
   "file_extension": ".py",
   "mimetype": "text/x-python",
   "name": "python",
   "nbconvert_exporter": "python",
   "pygments_lexer": "ipython3",
   "version": "3.9.19"
  }
 },
 "nbformat": 4,
 "nbformat_minor": 5
}
