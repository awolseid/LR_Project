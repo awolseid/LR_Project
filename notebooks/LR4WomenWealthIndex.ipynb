{
 "cells": [
  {
   "cell_type": "markdown",
   "id": "fd85e4db",
   "metadata": {},
   "source": [
    "# Linear Regression for Wealth Index of Women"
   ]
  },
  {
   "cell_type": "markdown",
   "id": "be0f64a9",
   "metadata": {},
   "source": [
    "## 1. Load Data"
   ]
  },
  {
   "cell_type": "code",
   "execution_count": 1,
   "id": "54039df0-522c-4735-b673-c9fc49ced2b8",
   "metadata": {},
   "outputs": [
    {
     "ename": "ModuleNotFoundError",
     "evalue": "No module named 'pandas'",
     "output_type": "error",
     "traceback": [
      "\u001b[1;31m---------------------------------------------------------------------------\u001b[0m",
      "\u001b[1;31mModuleNotFoundError\u001b[0m                       Traceback (most recent call last)",
      "Cell \u001b[1;32mIn[1], line 1\u001b[0m\n\u001b[1;32m----> 1\u001b[0m \u001b[38;5;28;01mimport\u001b[39;00m \u001b[38;5;21;01mpandas\u001b[39;00m \u001b[38;5;28;01mas\u001b[39;00m \u001b[38;5;21;01mpd\u001b[39;00m\n\u001b[0;32m      2\u001b[0m df \u001b[38;5;241m=\u001b[39m pd\u001b[38;5;241m.\u001b[39mread_csv(\u001b[38;5;124m\"\u001b[39m\u001b[38;5;124mdata/WomenDHS.csv\u001b[39m\u001b[38;5;124m\"\u001b[39m)\n\u001b[0;32m      3\u001b[0m df\n",
      "\u001b[1;31mModuleNotFoundError\u001b[0m: No module named 'pandas'"
     ]
    }
   ],
   "source": [
    "import pandas as pd\n",
    "df = pd.read_csv(\"data/WomenDHS.csv\")\n",
    "df"
   ]
  },
  {
   "cell_type": "code",
   "execution_count": null,
   "id": "86c7676c-b350-43c7-ac14-b4ed0ef49cc7",
   "metadata": {},
   "outputs": [
    {
     "data": {
      "text/plain": [
       "(15683, 8)"
      ]
     },
     "execution_count": 3,
     "metadata": {},
     "output_type": "execute_result"
    }
   ],
   "source": [
    "df.shape # (rows, columns) = (num vars, num obs)"
   ]
  },
  {
   "cell_type": "markdown",
   "id": "d6f961aa-d6dc-4d59-9e8c-04f04921b237",
   "metadata": {},
   "source": [
    "## 2. Exploratory data analysis (EDA)"
   ]
  },
  {
   "cell_type": "code",
   "execution_count": null,
   "id": "bd382aba",
   "metadata": {},
   "outputs": [
    {
     "data": {
      "text/html": [
       "<div>\n",
       "<style scoped>\n",
       "    .dataframe tbody tr th:only-of-type {\n",
       "        vertical-align: middle;\n",
       "    }\n",
       "\n",
       "    .dataframe tbody tr th {\n",
       "        vertical-align: top;\n",
       "    }\n",
       "\n",
       "    .dataframe thead th {\n",
       "        text-align: right;\n",
       "    }\n",
       "</style>\n",
       "<table border=\"1\" class=\"dataframe\">\n",
       "  <thead>\n",
       "    <tr style=\"text-align: right;\">\n",
       "      <th></th>\n",
       "      <th>UniqueID</th>\n",
       "      <th>Residence</th>\n",
       "      <th>Education</th>\n",
       "      <th>HouseHeadSex</th>\n",
       "      <th>Age</th>\n",
       "      <th>NumChild</th>\n",
       "      <th>WealthIndexOriginal</th>\n",
       "      <th>WealthIndex</th>\n",
       "    </tr>\n",
       "  </thead>\n",
       "  <tbody>\n",
       "    <tr>\n",
       "      <th>0</th>\n",
       "      <td>1</td>\n",
       "      <td>Rural</td>\n",
       "      <td>No Education</td>\n",
       "      <td>Male</td>\n",
       "      <td>38</td>\n",
       "      <td>8</td>\n",
       "      <td>-51074</td>\n",
       "      <td>162269</td>\n",
       "    </tr>\n",
       "    <tr>\n",
       "      <th>1</th>\n",
       "      <td>2</td>\n",
       "      <td>Rural</td>\n",
       "      <td>Incomplete Primary</td>\n",
       "      <td>Male</td>\n",
       "      <td>17</td>\n",
       "      <td>0</td>\n",
       "      <td>-51074</td>\n",
       "      <td>162269</td>\n",
       "    </tr>\n",
       "    <tr>\n",
       "      <th>2</th>\n",
       "      <td>3</td>\n",
       "      <td>Rural</td>\n",
       "      <td>Incomplete Primary</td>\n",
       "      <td>Male</td>\n",
       "      <td>42</td>\n",
       "      <td>6</td>\n",
       "      <td>-50742</td>\n",
       "      <td>162601</td>\n",
       "    </tr>\n",
       "    <tr>\n",
       "      <th>3</th>\n",
       "      <td>4</td>\n",
       "      <td>Rural</td>\n",
       "      <td>No Education</td>\n",
       "      <td>Male</td>\n",
       "      <td>46</td>\n",
       "      <td>9</td>\n",
       "      <td>-50137</td>\n",
       "      <td>163206</td>\n",
       "    </tr>\n",
       "    <tr>\n",
       "      <th>4</th>\n",
       "      <td>5</td>\n",
       "      <td>Rural</td>\n",
       "      <td>No Education</td>\n",
       "      <td>Male</td>\n",
       "      <td>17</td>\n",
       "      <td>1</td>\n",
       "      <td>-50137</td>\n",
       "      <td>163206</td>\n",
       "    </tr>\n",
       "  </tbody>\n",
       "</table>\n",
       "</div>"
      ],
      "text/plain": [
       "   UniqueID Residence           Education HouseHeadSex  Age  NumChild  \\\n",
       "0         1     Rural        No Education         Male   38         8   \n",
       "1         2     Rural  Incomplete Primary         Male   17         0   \n",
       "2         3     Rural  Incomplete Primary         Male   42         6   \n",
       "3         4     Rural        No Education         Male   46         9   \n",
       "4         5     Rural        No Education         Male   17         1   \n",
       "\n",
       "   WealthIndexOriginal  WealthIndex  \n",
       "0               -51074       162269  \n",
       "1               -51074       162269  \n",
       "2               -50742       162601  \n",
       "3               -50137       163206  \n",
       "4               -50137       163206  "
      ]
     },
     "execution_count": 4,
     "metadata": {},
     "output_type": "execute_result"
    }
   ],
   "source": [
    "df.head()"
   ]
  },
  {
   "cell_type": "code",
   "execution_count": null,
   "id": "cadf1f92",
   "metadata": {},
   "outputs": [
    {
     "data": {
      "text/html": [
       "<div>\n",
       "<style scoped>\n",
       "    .dataframe tbody tr th:only-of-type {\n",
       "        vertical-align: middle;\n",
       "    }\n",
       "\n",
       "    .dataframe tbody tr th {\n",
       "        vertical-align: top;\n",
       "    }\n",
       "\n",
       "    .dataframe thead th {\n",
       "        text-align: right;\n",
       "    }\n",
       "</style>\n",
       "<table border=\"1\" class=\"dataframe\">\n",
       "  <thead>\n",
       "    <tr style=\"text-align: right;\">\n",
       "      <th></th>\n",
       "      <th>UniqueID</th>\n",
       "      <th>Residence</th>\n",
       "      <th>Education</th>\n",
       "      <th>HouseHeadSex</th>\n",
       "      <th>Age</th>\n",
       "      <th>NumChild</th>\n",
       "      <th>WealthIndexOriginal</th>\n",
       "      <th>WealthIndex</th>\n",
       "    </tr>\n",
       "  </thead>\n",
       "  <tbody>\n",
       "    <tr>\n",
       "      <th>0</th>\n",
       "      <td>1</td>\n",
       "      <td>Rural</td>\n",
       "      <td>No Education</td>\n",
       "      <td>Male</td>\n",
       "      <td>38</td>\n",
       "      <td>8</td>\n",
       "      <td>-51074</td>\n",
       "      <td>162269</td>\n",
       "    </tr>\n",
       "    <tr>\n",
       "      <th>1</th>\n",
       "      <td>2</td>\n",
       "      <td>Rural</td>\n",
       "      <td>Incomplete Primary</td>\n",
       "      <td>Male</td>\n",
       "      <td>17</td>\n",
       "      <td>0</td>\n",
       "      <td>-51074</td>\n",
       "      <td>162269</td>\n",
       "    </tr>\n",
       "    <tr>\n",
       "      <th>2</th>\n",
       "      <td>3</td>\n",
       "      <td>Rural</td>\n",
       "      <td>Incomplete Primary</td>\n",
       "      <td>Male</td>\n",
       "      <td>42</td>\n",
       "      <td>6</td>\n",
       "      <td>-50742</td>\n",
       "      <td>162601</td>\n",
       "    </tr>\n",
       "    <tr>\n",
       "      <th>3</th>\n",
       "      <td>4</td>\n",
       "      <td>Rural</td>\n",
       "      <td>No Education</td>\n",
       "      <td>Male</td>\n",
       "      <td>46</td>\n",
       "      <td>9</td>\n",
       "      <td>-50137</td>\n",
       "      <td>163206</td>\n",
       "    </tr>\n",
       "    <tr>\n",
       "      <th>4</th>\n",
       "      <td>5</td>\n",
       "      <td>Rural</td>\n",
       "      <td>No Education</td>\n",
       "      <td>Male</td>\n",
       "      <td>17</td>\n",
       "      <td>1</td>\n",
       "      <td>-50137</td>\n",
       "      <td>163206</td>\n",
       "    </tr>\n",
       "    <tr>\n",
       "      <th>5</th>\n",
       "      <td>6</td>\n",
       "      <td>Rural</td>\n",
       "      <td>No Education</td>\n",
       "      <td>Female</td>\n",
       "      <td>31</td>\n",
       "      <td>4</td>\n",
       "      <td>-53785</td>\n",
       "      <td>159558</td>\n",
       "    </tr>\n",
       "    <tr>\n",
       "      <th>6</th>\n",
       "      <td>7</td>\n",
       "      <td>Rural</td>\n",
       "      <td>No Education</td>\n",
       "      <td>Female</td>\n",
       "      <td>36</td>\n",
       "      <td>3</td>\n",
       "      <td>-2828</td>\n",
       "      <td>210515</td>\n",
       "    </tr>\n",
       "    <tr>\n",
       "      <th>7</th>\n",
       "      <td>8</td>\n",
       "      <td>Rural</td>\n",
       "      <td>No Education</td>\n",
       "      <td>Male</td>\n",
       "      <td>31</td>\n",
       "      <td>5</td>\n",
       "      <td>-57173</td>\n",
       "      <td>156170</td>\n",
       "    </tr>\n",
       "    <tr>\n",
       "      <th>8</th>\n",
       "      <td>9</td>\n",
       "      <td>Rural</td>\n",
       "      <td>No Education</td>\n",
       "      <td>Female</td>\n",
       "      <td>23</td>\n",
       "      <td>2</td>\n",
       "      <td>-64141</td>\n",
       "      <td>149202</td>\n",
       "    </tr>\n",
       "    <tr>\n",
       "      <th>9</th>\n",
       "      <td>10</td>\n",
       "      <td>Rural</td>\n",
       "      <td>Incomplete Primary</td>\n",
       "      <td>Male</td>\n",
       "      <td>17</td>\n",
       "      <td>0</td>\n",
       "      <td>-37343</td>\n",
       "      <td>176000</td>\n",
       "    </tr>\n",
       "  </tbody>\n",
       "</table>\n",
       "</div>"
      ],
      "text/plain": [
       "   UniqueID Residence           Education HouseHeadSex  Age  NumChild  \\\n",
       "0         1     Rural        No Education         Male   38         8   \n",
       "1         2     Rural  Incomplete Primary         Male   17         0   \n",
       "2         3     Rural  Incomplete Primary         Male   42         6   \n",
       "3         4     Rural        No Education         Male   46         9   \n",
       "4         5     Rural        No Education         Male   17         1   \n",
       "5         6     Rural        No Education       Female   31         4   \n",
       "6         7     Rural        No Education       Female   36         3   \n",
       "7         8     Rural        No Education         Male   31         5   \n",
       "8         9     Rural        No Education       Female   23         2   \n",
       "9        10     Rural  Incomplete Primary         Male   17         0   \n",
       "\n",
       "   WealthIndexOriginal  WealthIndex  \n",
       "0               -51074       162269  \n",
       "1               -51074       162269  \n",
       "2               -50742       162601  \n",
       "3               -50137       163206  \n",
       "4               -50137       163206  \n",
       "5               -53785       159558  \n",
       "6                -2828       210515  \n",
       "7               -57173       156170  \n",
       "8               -64141       149202  \n",
       "9               -37343       176000  "
      ]
     },
     "execution_count": 5,
     "metadata": {},
     "output_type": "execute_result"
    }
   ],
   "source": [
    "df.head(10)"
   ]
  },
  {
   "cell_type": "code",
   "execution_count": null,
   "id": "593ce098",
   "metadata": {},
   "outputs": [
    {
     "data": {
      "text/html": [
       "<div>\n",
       "<style scoped>\n",
       "    .dataframe tbody tr th:only-of-type {\n",
       "        vertical-align: middle;\n",
       "    }\n",
       "\n",
       "    .dataframe tbody tr th {\n",
       "        vertical-align: top;\n",
       "    }\n",
       "\n",
       "    .dataframe thead th {\n",
       "        text-align: right;\n",
       "    }\n",
       "</style>\n",
       "<table border=\"1\" class=\"dataframe\">\n",
       "  <thead>\n",
       "    <tr style=\"text-align: right;\">\n",
       "      <th></th>\n",
       "      <th>UniqueID</th>\n",
       "      <th>Residence</th>\n",
       "      <th>Education</th>\n",
       "      <th>HouseHeadSex</th>\n",
       "      <th>Age</th>\n",
       "      <th>NumChild</th>\n",
       "      <th>WealthIndexOriginal</th>\n",
       "      <th>WealthIndex</th>\n",
       "    </tr>\n",
       "  </thead>\n",
       "  <tbody>\n",
       "    <tr>\n",
       "      <th>15678</th>\n",
       "      <td>15679</td>\n",
       "      <td>Urban</td>\n",
       "      <td>Incomplete Primary</td>\n",
       "      <td>Male</td>\n",
       "      <td>17</td>\n",
       "      <td>0</td>\n",
       "      <td>85862</td>\n",
       "      <td>299205</td>\n",
       "    </tr>\n",
       "    <tr>\n",
       "      <th>15679</th>\n",
       "      <td>15680</td>\n",
       "      <td>Urban</td>\n",
       "      <td>No Education</td>\n",
       "      <td>Male</td>\n",
       "      <td>33</td>\n",
       "      <td>2</td>\n",
       "      <td>147305</td>\n",
       "      <td>360648</td>\n",
       "    </tr>\n",
       "    <tr>\n",
       "      <th>15680</th>\n",
       "      <td>15681</td>\n",
       "      <td>Urban</td>\n",
       "      <td>Incomplete Primary</td>\n",
       "      <td>Male</td>\n",
       "      <td>25</td>\n",
       "      <td>1</td>\n",
       "      <td>186851</td>\n",
       "      <td>400194</td>\n",
       "    </tr>\n",
       "    <tr>\n",
       "      <th>15681</th>\n",
       "      <td>15682</td>\n",
       "      <td>Urban</td>\n",
       "      <td>Incomplete Primary</td>\n",
       "      <td>Male</td>\n",
       "      <td>18</td>\n",
       "      <td>0</td>\n",
       "      <td>186851</td>\n",
       "      <td>400194</td>\n",
       "    </tr>\n",
       "    <tr>\n",
       "      <th>15682</th>\n",
       "      <td>15683</td>\n",
       "      <td>Urban</td>\n",
       "      <td>Incomplete Secondary</td>\n",
       "      <td>Male</td>\n",
       "      <td>21</td>\n",
       "      <td>0</td>\n",
       "      <td>87711</td>\n",
       "      <td>301054</td>\n",
       "    </tr>\n",
       "  </tbody>\n",
       "</table>\n",
       "</div>"
      ],
      "text/plain": [
       "       UniqueID Residence             Education HouseHeadSex  Age  NumChild  \\\n",
       "15678     15679     Urban    Incomplete Primary         Male   17         0   \n",
       "15679     15680     Urban          No Education         Male   33         2   \n",
       "15680     15681     Urban    Incomplete Primary         Male   25         1   \n",
       "15681     15682     Urban    Incomplete Primary         Male   18         0   \n",
       "15682     15683     Urban  Incomplete Secondary         Male   21         0   \n",
       "\n",
       "       WealthIndexOriginal  WealthIndex  \n",
       "15678                85862       299205  \n",
       "15679               147305       360648  \n",
       "15680               186851       400194  \n",
       "15681               186851       400194  \n",
       "15682                87711       301054  "
      ]
     },
     "execution_count": 6,
     "metadata": {},
     "output_type": "execute_result"
    }
   ],
   "source": [
    "df.tail()"
   ]
  },
  {
   "cell_type": "code",
   "execution_count": null,
   "id": "bc56ebc6-81ee-45d1-bbed-1ca2f8909ed0",
   "metadata": {},
   "outputs": [
    {
     "data": {
      "text/plain": [
       "UniqueID               0\n",
       "Residence              0\n",
       "Education              0\n",
       "HouseHeadSex           0\n",
       "Age                    0\n",
       "NumChild               0\n",
       "WealthIndexOriginal    0\n",
       "WealthIndex            0\n",
       "dtype: int64"
      ]
     },
     "execution_count": 7,
     "metadata": {},
     "output_type": "execute_result"
    }
   ],
   "source": [
    "df.isna().sum() # missing values?"
   ]
  },
  {
   "cell_type": "code",
   "execution_count": null,
   "id": "6956ca75-6dfa-409c-8528-9d51dcea2cef",
   "metadata": {},
   "outputs": [
    {
     "name": "stdout",
     "output_type": "stream",
     "text": [
      "<class 'pandas.core.frame.DataFrame'>\n",
      "RangeIndex: 15683 entries, 0 to 15682\n",
      "Data columns (total 8 columns):\n",
      " #   Column               Non-Null Count  Dtype \n",
      "---  ------               --------------  ----- \n",
      " 0   UniqueID             15683 non-null  int64 \n",
      " 1   Residence            15683 non-null  object\n",
      " 2   Education            15683 non-null  object\n",
      " 3   HouseHeadSex         15683 non-null  object\n",
      " 4   Age                  15683 non-null  int64 \n",
      " 5   NumChild             15683 non-null  int64 \n",
      " 6   WealthIndexOriginal  15683 non-null  int64 \n",
      " 7   WealthIndex          15683 non-null  int64 \n",
      "dtypes: int64(5), object(3)\n",
      "memory usage: 980.3+ KB\n"
     ]
    }
   ],
   "source": [
    "df.info() # datatypes"
   ]
  },
  {
   "cell_type": "code",
   "execution_count": null,
   "id": "68d03176-2e2a-4625-b14c-2402926b004a",
   "metadata": {},
   "outputs": [
    {
     "name": "stdout",
     "output_type": "stream",
     "text": [
      "3 ['Residence', 'Education', 'HouseHeadSex']\n",
      "5 ['UniqueID', 'Age', 'NumChild', 'WealthIndexOriginal', 'WealthIndex']\n"
     ]
    }
   ],
   "source": [
    "## Number of catgorical and numerical features\n",
    "categirical_features = [f for f in df.columns if df[f].dtype == \"O\"] # \"O\" -> Object\n",
    "num_categirical_features = len(categirical_features)\n",
    "numeric_features = [f for f in df.columns if df[f].dtype != \"O\"]\n",
    "num_numeric_features = len(numeric_features)\n",
    "\n",
    "print(num_categirical_features, categirical_features)\n",
    "print(num_numeric_features, numeric_features)"
   ]
  },
  {
   "cell_type": "code",
   "execution_count": null,
   "id": "2214f8ac",
   "metadata": {},
   "outputs": [
    {
     "name": "stdout",
     "output_type": "stream",
     "text": [
      "Index(['Residence', 'Education', 'HouseHeadSex'], dtype='object')\n",
      "Index(['UniqueID', 'Age', 'NumChild', 'WealthIndexOriginal', 'WealthIndex'], dtype='object')\n"
     ]
    }
   ],
   "source": [
    "categorical_features = df.select_dtypes(include=\"object\").columns\n",
    "print(categorical_features)\n",
    "numeric_features = df.select_dtypes(exclude=\"object\").columns\n",
    "print(numeric_features)"
   ]
  },
  {
   "cell_type": "code",
   "execution_count": null,
   "id": "9e7b619b-cbe1-4a45-ad87-2e9362c86b21",
   "metadata": {},
   "outputs": [
    {
     "data": {
      "text/plain": [
       "0"
      ]
     },
     "execution_count": 11,
     "metadata": {},
     "output_type": "execute_result"
    }
   ],
   "source": [
    "df.duplicated(subset=['UniqueID']).sum() ## duplicates?"
   ]
  },
  {
   "cell_type": "code",
   "execution_count": null,
   "id": "7df1f72c-5152-4cef-8717-e5a9c58c4907",
   "metadata": {},
   "outputs": [
    {
     "data": {
      "text/plain": [
       "UniqueID               15683\n",
       "Residence                  2\n",
       "Education                  6\n",
       "HouseHeadSex               2\n",
       "Age                       35\n",
       "NumChild                  13\n",
       "WealthIndexOriginal    11935\n",
       "WealthIndex            11935\n",
       "dtype: int64"
      ]
     },
     "execution_count": 12,
     "metadata": {},
     "output_type": "execute_result"
    }
   ],
   "source": [
    "df.nunique() # unique values"
   ]
  },
  {
   "cell_type": "code",
   "execution_count": null,
   "id": "ac0fa5f0",
   "metadata": {},
   "outputs": [
    {
     "data": {
      "text/plain": [
       "Rural    10335\n",
       "Urban     5348\n",
       "Name: Residence, dtype: int64"
      ]
     },
     "execution_count": 13,
     "metadata": {},
     "output_type": "execute_result"
    }
   ],
   "source": [
    "df.Residence.value_counts()"
   ]
  },
  {
   "cell_type": "code",
   "execution_count": null,
   "id": "4049322c",
   "metadata": {},
   "outputs": [
    {
     "data": {
      "text/plain": [
       "Rural    0.658994\n",
       "Urban    0.341006\n",
       "Name: Residence, dtype: float64"
      ]
     },
     "execution_count": 14,
     "metadata": {},
     "output_type": "execute_result"
    }
   ],
   "source": [
    "df.Residence.value_counts(normalize=True)"
   ]
  },
  {
   "cell_type": "code",
   "execution_count": null,
   "id": "401729cb",
   "metadata": {},
   "outputs": [
    {
     "data": {
      "text/plain": [
       "<Axes: >"
      ]
     },
     "execution_count": 15,
     "metadata": {},
     "output_type": "execute_result"
    },
    {
     "data": {
      "image/png": "[encoded data removed]",
      "text/plain": [
       "<Figure size 640x480 with 1 Axes>"
      ]
     },
     "metadata": {},
     "output_type": "display_data"
    }
   ],
   "source": [
    "df.Education.value_counts().plot(kind=\"bar\")"
   ]
  },
  {
   "cell_type": "code",
   "execution_count": null,
   "id": "84bafadc-3b61-4679-8417-9b39b1e4e40b",
   "metadata": {},
   "outputs": [
    {
     "data": {
      "text/html": [
       "<div>\n",
       "<style scoped>\n",
       "    .dataframe tbody tr th:only-of-type {\n",
       "        vertical-align: middle;\n",
       "    }\n",
       "\n",
       "    .dataframe tbody tr th {\n",
       "        vertical-align: top;\n",
       "    }\n",
       "\n",
       "    .dataframe thead th {\n",
       "        text-align: right;\n",
       "    }\n",
       "</style>\n",
       "<table border=\"1\" class=\"dataframe\">\n",
       "  <thead>\n",
       "    <tr style=\"text-align: right;\">\n",
       "      <th></th>\n",
       "      <th>UniqueID</th>\n",
       "      <th>Age</th>\n",
       "      <th>NumChild</th>\n",
       "      <th>WealthIndexOriginal</th>\n",
       "      <th>WealthIndex</th>\n",
       "    </tr>\n",
       "  </thead>\n",
       "  <tbody>\n",
       "    <tr>\n",
       "      <th>count</th>\n",
       "      <td>15683.000000</td>\n",
       "      <td>15683.000000</td>\n",
       "      <td>15683.000000</td>\n",
       "      <td>15683.000000</td>\n",
       "      <td>15683.000000</td>\n",
       "    </tr>\n",
       "    <tr>\n",
       "      <th>mean</th>\n",
       "      <td>7842.000000</td>\n",
       "      <td>27.937321</td>\n",
       "      <td>2.325639</td>\n",
       "      <td>10621.310209</td>\n",
       "      <td>223964.310209</td>\n",
       "    </tr>\n",
       "    <tr>\n",
       "      <th>std</th>\n",
       "      <td>4527.436471</td>\n",
       "      <td>9.159282</td>\n",
       "      <td>2.472988</td>\n",
       "      <td>105301.347989</td>\n",
       "      <td>105301.347989</td>\n",
       "    </tr>\n",
       "    <tr>\n",
       "      <th>min</th>\n",
       "      <td>1.000000</td>\n",
       "      <td>15.000000</td>\n",
       "      <td>0.000000</td>\n",
       "      <td>-213343.000000</td>\n",
       "      <td>0.000000</td>\n",
       "    </tr>\n",
       "    <tr>\n",
       "      <th>25%</th>\n",
       "      <td>3921.500000</td>\n",
       "      <td>20.000000</td>\n",
       "      <td>0.000000</td>\n",
       "      <td>-61526.500000</td>\n",
       "      <td>151816.500000</td>\n",
       "    </tr>\n",
       "    <tr>\n",
       "      <th>50%</th>\n",
       "      <td>7842.000000</td>\n",
       "      <td>27.000000</td>\n",
       "      <td>2.000000</td>\n",
       "      <td>-33659.000000</td>\n",
       "      <td>179684.000000</td>\n",
       "    </tr>\n",
       "    <tr>\n",
       "      <th>75%</th>\n",
       "      <td>11762.500000</td>\n",
       "      <td>35.000000</td>\n",
       "      <td>4.000000</td>\n",
       "      <td>88720.000000</td>\n",
       "      <td>302063.000000</td>\n",
       "    </tr>\n",
       "    <tr>\n",
       "      <th>max</th>\n",
       "      <td>15683.000000</td>\n",
       "      <td>49.000000</td>\n",
       "      <td>12.000000</td>\n",
       "      <td>309962.000000</td>\n",
       "      <td>523305.000000</td>\n",
       "    </tr>\n",
       "  </tbody>\n",
       "</table>\n",
       "</div>"
      ],
      "text/plain": [
       "           UniqueID           Age      NumChild  WealthIndexOriginal  \\\n",
       "count  15683.000000  15683.000000  15683.000000         15683.000000   \n",
       "mean    7842.000000     27.937321      2.325639         10621.310209   \n",
       "std     4527.436471      9.159282      2.472988        105301.347989   \n",
       "min        1.000000     15.000000      0.000000       -213343.000000   \n",
       "25%     3921.500000     20.000000      0.000000        -61526.500000   \n",
       "50%     7842.000000     27.000000      2.000000        -33659.000000   \n",
       "75%    11762.500000     35.000000      4.000000         88720.000000   \n",
       "max    15683.000000     49.000000     12.000000        309962.000000   \n",
       "\n",
       "         WealthIndex  \n",
       "count   15683.000000  \n",
       "mean   223964.310209  \n",
       "std    105301.347989  \n",
       "min         0.000000  \n",
       "25%    151816.500000  \n",
       "50%    179684.000000  \n",
       "75%    302063.000000  \n",
       "max    523305.000000  "
      ]
     },
     "execution_count": 16,
     "metadata": {},
     "output_type": "execute_result"
    }
   ],
   "source": [
    "df.describe() # descriptives"
   ]
  },
  {
   "cell_type": "markdown",
   "id": "d402bb1c-6435-445b-9d6c-cbc7b511807d",
   "metadata": {},
   "source": [
    "### Histogram and KDE"
   ]
  },
  {
   "cell_type": "code",
   "execution_count": null,
   "id": "130db696",
   "metadata": {},
   "outputs": [],
   "source": [
    "import matplotlib.pyplot as plt\n",
    "import seaborn as sns"
   ]
  },
  {
   "cell_type": "code",
   "execution_count": null,
   "id": "6ed57821-09cc-4991-b8e5-9080181bfbcd",
   "metadata": {},
   "outputs": [
    {
     "data": {
      "image/png": "[encoded data removed]",
      "text/plain": [
       "<Figure size 1500x700 with 2 Axes>"
      ]
     },
     "metadata": {},
     "output_type": "display_data"
    }
   ],
   "source": [
    "fig, axs = plt.subplots(1, 2, figsize=(15, 7))\n",
    "plt.subplot(121)\n",
    "sns.histplot(data=df, x='WealthIndex', bins=30, kde=True, color='g')\n",
    "plt.subplot(122)\n",
    "sns.histplot(data=df, x='WealthIndex', kde=True, hue='HouseHeadSex')\n",
    "plt.show()"
   ]
  },
  {
   "cell_type": "code",
   "execution_count": null,
   "id": "d31aec48-1173-497e-a280-a6e3278d4135",
   "metadata": {},
   "outputs": [
    {
     "data": {
      "image/png": "[encoded data removed]",
      "text/plain": [
       "<Figure size 1500x700 with 2 Axes>"
      ]
     },
     "metadata": {},
     "output_type": "display_data"
    }
   ],
   "source": [
    "fig, axs = plt.subplots(1, 2, figsize=(15, 7))\n",
    "plt.subplot(121)\n",
    "sns.histplot(data=df, x='WealthIndex', bins=30, kde=True, color='g')\n",
    "plt.subplot(122)\n",
    "sns.histplot(data=df, x='WealthIndex', kde=True, hue='Residence')\n",
    "plt.show()"
   ]
  },
  {
   "cell_type": "code",
   "execution_count": null,
   "id": "f76cb4ad-f083-498a-abfe-36ed51fcb820",
   "metadata": {},
   "outputs": [
    {
     "data": {
      "image/png": "[encoded data removed]",
      "text/plain": [
       "<Figure size 1500x700 with 2 Axes>"
      ]
     },
     "metadata": {},
     "output_type": "display_data"
    }
   ],
   "source": [
    "fig, axs = plt.subplots(1, 2, figsize=(15, 7))\n",
    "plt.subplot(121)\n",
    "sns.histplot(data=df, x='WealthIndex', bins=30, kde=True, color='g')\n",
    "plt.subplot(122)\n",
    "sns.histplot(data=df, x='WealthIndex', kde=True, hue='HouseHeadSex')\n",
    "plt.show()"
   ]
  },
  {
   "cell_type": "markdown",
   "id": "065c5fb4-d08e-40ab-9da2-2c31671dfd08",
   "metadata": {},
   "source": [
    "## 3. Train-Test Split"
   ]
  },
  {
   "cell_type": "code",
   "execution_count": null,
   "id": "e1568be2-724b-45dd-b130-ec9d77d70aa9",
   "metadata": {},
   "outputs": [
    {
     "data": {
      "text/html": [
       "<div>\n",
       "<style scoped>\n",
       "    .dataframe tbody tr th:only-of-type {\n",
       "        vertical-align: middle;\n",
       "    }\n",
       "\n",
       "    .dataframe tbody tr th {\n",
       "        vertical-align: top;\n",
       "    }\n",
       "\n",
       "    .dataframe thead th {\n",
       "        text-align: right;\n",
       "    }\n",
       "</style>\n",
       "<table border=\"1\" class=\"dataframe\">\n",
       "  <thead>\n",
       "    <tr style=\"text-align: right;\">\n",
       "      <th></th>\n",
       "      <th>Residence</th>\n",
       "      <th>Education</th>\n",
       "      <th>HouseHeadSex</th>\n",
       "      <th>Age</th>\n",
       "      <th>NumChild</th>\n",
       "    </tr>\n",
       "  </thead>\n",
       "  <tbody>\n",
       "    <tr>\n",
       "      <th>0</th>\n",
       "      <td>Rural</td>\n",
       "      <td>No Education</td>\n",
       "      <td>Male</td>\n",
       "      <td>38</td>\n",
       "      <td>8</td>\n",
       "    </tr>\n",
       "    <tr>\n",
       "      <th>1</th>\n",
       "      <td>Rural</td>\n",
       "      <td>Incomplete Primary</td>\n",
       "      <td>Male</td>\n",
       "      <td>17</td>\n",
       "      <td>0</td>\n",
       "    </tr>\n",
       "    <tr>\n",
       "      <th>2</th>\n",
       "      <td>Rural</td>\n",
       "      <td>Incomplete Primary</td>\n",
       "      <td>Male</td>\n",
       "      <td>42</td>\n",
       "      <td>6</td>\n",
       "    </tr>\n",
       "    <tr>\n",
       "      <th>3</th>\n",
       "      <td>Rural</td>\n",
       "      <td>No Education</td>\n",
       "      <td>Male</td>\n",
       "      <td>46</td>\n",
       "      <td>9</td>\n",
       "    </tr>\n",
       "    <tr>\n",
       "      <th>4</th>\n",
       "      <td>Rural</td>\n",
       "      <td>No Education</td>\n",
       "      <td>Male</td>\n",
       "      <td>17</td>\n",
       "      <td>1</td>\n",
       "    </tr>\n",
       "    <tr>\n",
       "      <th>...</th>\n",
       "      <td>...</td>\n",
       "      <td>...</td>\n",
       "      <td>...</td>\n",
       "      <td>...</td>\n",
       "      <td>...</td>\n",
       "    </tr>\n",
       "    <tr>\n",
       "      <th>15678</th>\n",
       "      <td>Urban</td>\n",
       "      <td>Incomplete Primary</td>\n",
       "      <td>Male</td>\n",
       "      <td>17</td>\n",
       "      <td>0</td>\n",
       "    </tr>\n",
       "    <tr>\n",
       "      <th>15679</th>\n",
       "      <td>Urban</td>\n",
       "      <td>No Education</td>\n",
       "      <td>Male</td>\n",
       "      <td>33</td>\n",
       "      <td>2</td>\n",
       "    </tr>\n",
       "    <tr>\n",
       "      <th>15680</th>\n",
       "      <td>Urban</td>\n",
       "      <td>Incomplete Primary</td>\n",
       "      <td>Male</td>\n",
       "      <td>25</td>\n",
       "      <td>1</td>\n",
       "    </tr>\n",
       "    <tr>\n",
       "      <th>15681</th>\n",
       "      <td>Urban</td>\n",
       "      <td>Incomplete Primary</td>\n",
       "      <td>Male</td>\n",
       "      <td>18</td>\n",
       "      <td>0</td>\n",
       "    </tr>\n",
       "    <tr>\n",
       "      <th>15682</th>\n",
       "      <td>Urban</td>\n",
       "      <td>Incomplete Secondary</td>\n",
       "      <td>Male</td>\n",
       "      <td>21</td>\n",
       "      <td>0</td>\n",
       "    </tr>\n",
       "  </tbody>\n",
       "</table>\n",
       "<p>15683 rows × 5 columns</p>\n",
       "</div>"
      ],
      "text/plain": [
       "      Residence             Education HouseHeadSex  Age  NumChild\n",
       "0         Rural          No Education         Male   38         8\n",
       "1         Rural    Incomplete Primary         Male   17         0\n",
       "2         Rural    Incomplete Primary         Male   42         6\n",
       "3         Rural          No Education         Male   46         9\n",
       "4         Rural          No Education         Male   17         1\n",
       "...         ...                   ...          ...  ...       ...\n",
       "15678     Urban    Incomplete Primary         Male   17         0\n",
       "15679     Urban          No Education         Male   33         2\n",
       "15680     Urban    Incomplete Primary         Male   25         1\n",
       "15681     Urban    Incomplete Primary         Male   18         0\n",
       "15682     Urban  Incomplete Secondary         Male   21         0\n",
       "\n",
       "[15683 rows x 5 columns]"
      ]
     },
     "execution_count": 21,
     "metadata": {},
     "output_type": "execute_result"
    }
   ],
   "source": [
    "X = df.drop(columns=[\"UniqueID\", \"WealthIndexOriginal\", \"WealthIndex\"])\n",
    "X"
   ]
  },
  {
   "cell_type": "code",
   "execution_count": null,
   "id": "4262e4cb-4a54-43ee-9e32-82c5f0f37723",
   "metadata": {},
   "outputs": [
    {
     "data": {
      "text/plain": [
       "0        162269\n",
       "1        162269\n",
       "2        162601\n",
       "3        163206\n",
       "4        163206\n",
       "          ...  \n",
       "15678    299205\n",
       "15679    360648\n",
       "15680    400194\n",
       "15681    400194\n",
       "15682    301054\n",
       "Name: WealthIndex, Length: 15683, dtype: int64"
      ]
     },
     "execution_count": 22,
     "metadata": {},
     "output_type": "execute_result"
    }
   ],
   "source": [
    "y = df[\"WealthIndex\"]\n",
    "y"
   ]
  },
  {
   "cell_type": "code",
   "execution_count": null,
   "id": "73d00fa0",
   "metadata": {},
   "outputs": [
    {
     "data": {
      "text/plain": [
       "((12546, 5), (3137, 5))"
      ]
     },
     "execution_count": 23,
     "metadata": {},
     "output_type": "execute_result"
    }
   ],
   "source": [
    "from sklearn.model_selection import train_test_split\n",
    "X_train, X_test, y_train, y_test = train_test_split(\n",
    "    X, \n",
    "    y, \n",
    "    test_size=0.2, \n",
    "    random_state=42\n",
    ")\n",
    "X_train.shape, X_test.shape"
   ]
  },
  {
   "cell_type": "markdown",
   "id": "20f697f3",
   "metadata": {},
   "source": [
    "## 4. Feature Transformations"
   ]
  },
  {
   "cell_type": "code",
   "execution_count": null,
   "id": "78ae16e4-7bf5-4c5e-a182-876881c071b6",
   "metadata": {},
   "outputs": [],
   "source": [
    "cat_features = X_train.select_dtypes(include=\"object\").columns\n",
    "num_features = X_train.select_dtypes(exclude=\"object\").columns"
   ]
  },
  {
   "cell_type": "code",
   "execution_count": null,
   "id": "870105fe-2af6-4f49-a4ff-96a2b11cbb3a",
   "metadata": {},
   "outputs": [
    {
     "data": {
      "text/plain": [
       "(Index(['Residence', 'Education', 'HouseHeadSex'], dtype='object'),\n",
       " Index(['Age', 'NumChild'], dtype='object'))"
      ]
     },
     "execution_count": 25,
     "metadata": {},
     "output_type": "execute_result"
    }
   ],
   "source": [
    "cat_features, num_features"
   ]
  },
  {
   "cell_type": "code",
   "execution_count": null,
   "id": "6f50652e-4d56-4a84-b996-5dadeef220b4",
   "metadata": {},
   "outputs": [],
   "source": [
    "from sklearn.preprocessing import OneHotEncoder, StandardScaler\n",
    "from sklearn.compose import ColumnTransformer"
   ]
  },
  {
   "cell_type": "code",
   "execution_count": null,
   "id": "f7c0a798",
   "metadata": {},
   "outputs": [
    {
     "name": "stdout",
     "output_type": "stream",
     "text": [
      "StandardScaler() OneHotEncoder()\n"
     ]
    }
   ],
   "source": [
    "numeric_transformer = StandardScaler()\n",
    "onehot_transformer = OneHotEncoder()\n",
    "print(numeric_transformer, onehot_transformer)"
   ]
  },
  {
   "cell_type": "code",
   "execution_count": null,
   "id": "f10a4fe1",
   "metadata": {},
   "outputs": [],
   "source": [
    "preprocessor = ColumnTransformer([\n",
    "    (\"OneHotEncoder\", onehot_transformer, cat_features),\n",
    "    (\"StandardScaler\", numeric_transformer, num_features)\n",
    "    ])"
   ]
  },
  {
   "cell_type": "code",
   "execution_count": null,
   "id": "d38ca1c3",
   "metadata": {},
   "outputs": [
    {
     "data": {
      "text/plain": [
       "array([[ 0.        ,  1.        ,  0.        , ...,  1.        ,\n",
       "        -0.86742759, -0.94017478],\n",
       "       [ 1.        ,  0.        ,  0.        , ...,  0.        ,\n",
       "         1.3239574 ,  3.1036501 ],\n",
       "       [ 1.        ,  0.        ,  0.        , ...,  1.        ,\n",
       "         1.3239574 ,  1.48612015],\n",
       "       ...,\n",
       "       [ 0.        ,  1.        ,  0.        , ...,  0.        ,\n",
       "         0.2282649 ,  0.67735517],\n",
       "       [ 1.        ,  0.        ,  0.        , ...,  1.        ,\n",
       "        -1.08656609, -0.94017478],\n",
       "       [ 1.        ,  0.        ,  0.        , ...,  1.        ,\n",
       "         0.77611115,  1.48612015]])"
      ]
     },
     "execution_count": 29,
     "metadata": {},
     "output_type": "execute_result"
    }
   ],
   "source": [
    "X_train = preprocessor.fit_transform(X_train)\n",
    "X_train"
   ]
  },
  {
   "cell_type": "code",
   "execution_count": null,
   "id": "0806f464",
   "metadata": {},
   "outputs": [
    {
     "data": {
      "text/plain": [
       "(12546, 12)"
      ]
     },
     "execution_count": 30,
     "metadata": {},
     "output_type": "execute_result"
    }
   ],
   "source": [
    "X_train.shape"
   ]
  },
  {
   "cell_type": "code",
   "execution_count": null,
   "id": "dffd45b9",
   "metadata": {},
   "outputs": [
    {
     "data": {
      "text/plain": [
       "array([[ 1.        ,  0.        ,  0.        , ...,  0.        ,\n",
       "        -0.64828909,  0.67735517],\n",
       "       [ 1.        ,  0.        ,  0.        , ...,  1.        ,\n",
       "        -0.21001209, -0.1314098 ],\n",
       "       [ 1.        ,  0.        ,  0.        , ...,  1.        ,\n",
       "         1.21438815,  1.48612015],\n",
       "       ...,\n",
       "       [ 0.        ,  1.        ,  0.        , ...,  1.        ,\n",
       "         0.99524965,  2.29488513],\n",
       "       [ 1.        ,  0.        ,  0.        , ...,  0.        ,\n",
       "         0.2282649 ,  0.27297268],\n",
       "       [ 0.        ,  1.        ,  0.        , ...,  0.        ,\n",
       "         1.5430959 , -0.1314098 ]])"
      ]
     },
     "execution_count": 31,
     "metadata": {},
     "output_type": "execute_result"
    }
   ],
   "source": [
    "X_test = preprocessor.transform(X_test)\n",
    "X_test"
   ]
  },
  {
   "cell_type": "markdown",
   "id": "9825d31d",
   "metadata": {},
   "source": [
    "## 5. Train Model"
   ]
  },
  {
   "cell_type": "code",
   "execution_count": null,
   "id": "00bd4714-471d-4483-9e57-b8f36b0f988a",
   "metadata": {},
   "outputs": [],
   "source": [
    "%%capture\n",
    "!pip install catboost"
   ]
  },
  {
   "cell_type": "code",
   "execution_count": null,
   "id": "09a9f036-af42-4e88-84ba-3432a8e16fd6",
   "metadata": {
    "scrolled": true
   },
   "outputs": [],
   "source": [
    "%%capture\n",
    "!pip install xgboost"
   ]
  },
  {
   "cell_type": "code",
   "execution_count": null,
   "id": "ab1897f2-c92f-45ec-b491-56143baedc45",
   "metadata": {},
   "outputs": [],
   "source": [
    "from sklearn.neighbors import KNeighborsRegressor\n",
    "from sklearn.tree import DecisionTreeRegressor\n",
    "from sklearn.ensemble import RandomForestRegressor, AdaBoostRegressor, GradientBoostingRegressor\n",
    "from sklearn.linear_model import LinearRegression, Ridge, Lasso, ElasticNet\n",
    "from catboost import CatBoostRegressor\n",
    "from xgboost import XGBRegressor"
   ]
  },
  {
   "cell_type": "code",
   "execution_count": null,
   "id": "0108908f",
   "metadata": {},
   "outputs": [],
   "source": [
    "from sklearn.metrics import mean_absolute_error, mean_squared_error, r2_score\n",
    "\n",
    "def evaluate_model(actual, predicted):\n",
    "    MAE = mean_absolute_error(actual, predicted)\n",
    "    MSE = mean_squared_error(actual, predicted)\n",
    "    RMSE = np.sqrt(MSE)\n",
    "    R2 = r2_score(actual, predicted)    \n",
    "    return MAE, MSE, RMSE, R2"
   ]
  },
  {
   "cell_type": "code",
   "execution_count": null,
   "id": "90218eb6",
   "metadata": {},
   "outputs": [],
   "source": [
    "models_dict = {\n",
    "    \"Linear\" : LinearRegression(),\n",
    "    \"Lasso\" : Lasso(),\n",
    "    \"Ridge\" : Ridge(),\n",
    "    \"ElasticNet\" : ElasticNet(),\n",
    "    \"K-Neighbors\" : KNeighborsRegressor(),\n",
    "    \"Decision Tree\" : DecisionTreeRegressor(),\n",
    "    \"Random Forest\" : RandomForestRegressor(),\n",
    "    \"XGBoost\" : XGBRegressor(),\n",
    "    \"CatBoosting\" : CatBoostRegressor(verbose=False),\n",
    "    \"AdaBoost\": AdaBoostRegressor(),\n",
    "    \"Gradient Boosting\": GradientBoostingRegressor()\n",
    "}"
   ]
  },
  {
   "cell_type": "code",
   "execution_count": null,
   "id": "1b2132d4",
   "metadata": {},
   "outputs": [
    {
     "data": {
      "text/plain": [
       "['Linear',\n",
       " 'Lasso',\n",
       " 'Ridge',\n",
       " 'ElasticNet',\n",
       " 'K-Neighbors',\n",
       " 'Decision Tree',\n",
       " 'Random Forest',\n",
       " 'XGBoost',\n",
       " 'CatBoosting',\n",
       " 'AdaBoost',\n",
       " 'Gradient Boosting']"
      ]
     },
     "execution_count": 37,
     "metadata": {},
     "output_type": "execute_result"
    }
   ],
   "source": [
    "num_models = len(models_dict)\n",
    "model_type = list(models_dict.keys())\n",
    "model_type"
   ]
  },
  {
   "cell_type": "code",
   "execution_count": null,
   "id": "aebbfa56",
   "metadata": {},
   "outputs": [
    {
     "data": {
      "text/plain": [
       "[LinearRegression(),\n",
       " Lasso(),\n",
       " Ridge(),\n",
       " ElasticNet(),\n",
       " KNeighborsRegressor(),\n",
       " DecisionTreeRegressor(),\n",
       " RandomForestRegressor(),\n",
       " XGBRegressor(base_score=None, booster=None, callbacks=None,\n",
       "              colsample_bylevel=None, colsample_bynode=None,\n",
       "              colsample_bytree=None, device=None, early_stopping_rounds=None,\n",
       "              enable_categorical=False, eval_metric=None, feature_types=None,\n",
       "              gamma=None, grow_policy=None, importance_type=None,\n",
       "              interaction_constraints=None, learning_rate=None, max_bin=None,\n",
       "              max_cat_threshold=None, max_cat_to_onehot=None,\n",
       "              max_delta_step=None, max_depth=None, max_leaves=None,\n",
       "              min_child_weight=None, missing=nan, monotone_constraints=None,\n",
       "              multi_strategy=None, n_estimators=None, n_jobs=None,\n",
       "              num_parallel_tree=None, random_state=None, ...),\n",
       " <catboost.core.CatBoostRegressor at 0x22e991ccfd0>,\n",
       " AdaBoostRegressor(),\n",
       " GradientBoostingRegressor()]"
      ]
     },
     "execution_count": 38,
     "metadata": {},
     "output_type": "execute_result"
    }
   ],
   "source": [
    "name_models = list(models_dict.values())\n",
    "name_models"
   ]
  },
  {
   "cell_type": "code",
   "execution_count": null,
   "id": "2cc66f44",
   "metadata": {},
   "outputs": [],
   "source": [
    "def train_model(models, X_train, X_test, y_train, y_test):\n",
    "    model_scores = {\n",
    "        \"Model\": [],\n",
    "        \"Train_MAE\": [],\n",
    "        \"Train_RMSE\": [],\n",
    "        \"Train_R2\": [],\n",
    "        \"Test_MAE\": [],\n",
    "        \"Test_RMSE\": [],\n",
    "        \"Test_R2\": [],  \n",
    "    }\n",
    "    \n",
    "    for model_name, model in models_dict.items():\n",
    "        model.fit(X_train, y_train)\n",
    "        y_train_pred = model.predict(X_train)\n",
    "        y_test_pred = model.predict(X_test)\n",
    "        train_mae, _, train_rmse, train_r2 = evaluate_model(y_train, y_train_pred)\n",
    "        test_mae, _, test_rmse, test_r2 = evaluate_model(y_test, y_test_pred)\n",
    "        \n",
    "        model_scores[\"Model\"].append(model_name)\n",
    "        model_scores[\"Train_MAE\"].append(train_mae)\n",
    "        model_scores[\"Train_RMSE\"].append(train_rmse)\n",
    "        model_scores[\"Train_R2\"].append(train_r2)\n",
    "\n",
    "        model_scores[\"Test_MAE\"].append(test_mae)\n",
    "        model_scores[\"Test_RMSE\"].append(test_rmse)\n",
    "        model_scores[\"Test_R2\"].append(test_r2)\n",
    "        \n",
    "    model_scores_df = pd.DataFrame(model_scores)\n",
    "    return model_scores_df"
   ]
  },
  {
   "cell_type": "code",
   "execution_count": null,
   "id": "145efacc",
   "metadata": {},
   "outputs": [
    {
     "data": {
      "text/html": [
       "<div>\n",
       "<style scoped>\n",
       "    .dataframe tbody tr th:only-of-type {\n",
       "        vertical-align: middle;\n",
       "    }\n",
       "\n",
       "    .dataframe tbody tr th {\n",
       "        vertical-align: top;\n",
       "    }\n",
       "\n",
       "    .dataframe thead th {\n",
       "        text-align: right;\n",
       "    }\n",
       "</style>\n",
       "<table border=\"1\" class=\"dataframe\">\n",
       "  <thead>\n",
       "    <tr style=\"text-align: right;\">\n",
       "      <th></th>\n",
       "      <th>Model</th>\n",
       "      <th>Train_MAE</th>\n",
       "      <th>Train_RMSE</th>\n",
       "      <th>Train_R2</th>\n",
       "      <th>Test_MAE</th>\n",
       "      <th>Test_RMSE</th>\n",
       "      <th>Test_R2</th>\n",
       "    </tr>\n",
       "  </thead>\n",
       "  <tbody>\n",
       "    <tr>\n",
       "      <th>0</th>\n",
       "      <td>Linear</td>\n",
       "      <td>36785.496652</td>\n",
       "      <td>51902.289408</td>\n",
       "      <td>0.757744</td>\n",
       "      <td>36888.337265</td>\n",
       "      <td>52596.020122</td>\n",
       "      <td>0.747511</td>\n",
       "    </tr>\n",
       "    <tr>\n",
       "      <th>1</th>\n",
       "      <td>Lasso</td>\n",
       "      <td>36783.896019</td>\n",
       "      <td>51902.170035</td>\n",
       "      <td>0.757745</td>\n",
       "      <td>36886.919614</td>\n",
       "      <td>52597.909899</td>\n",
       "      <td>0.747493</td>\n",
       "    </tr>\n",
       "    <tr>\n",
       "      <th>2</th>\n",
       "      <td>Ridge</td>\n",
       "      <td>36784.417981</td>\n",
       "      <td>51902.175954</td>\n",
       "      <td>0.757745</td>\n",
       "      <td>36887.543558</td>\n",
       "      <td>52597.954617</td>\n",
       "      <td>0.747493</td>\n",
       "    </tr>\n",
       "    <tr>\n",
       "      <th>3</th>\n",
       "      <td>ElasticNet</td>\n",
       "      <td>52466.181266</td>\n",
       "      <td>68188.771340</td>\n",
       "      <td>0.581855</td>\n",
       "      <td>52798.626570</td>\n",
       "      <td>68222.010557</td>\n",
       "      <td>0.575199</td>\n",
       "    </tr>\n",
       "    <tr>\n",
       "      <th>4</th>\n",
       "      <td>K-Neighbors</td>\n",
       "      <td>35120.039837</td>\n",
       "      <td>49612.568957</td>\n",
       "      <td>0.778647</td>\n",
       "      <td>38166.111954</td>\n",
       "      <td>54195.173613</td>\n",
       "      <td>0.731924</td>\n",
       "    </tr>\n",
       "    <tr>\n",
       "      <th>5</th>\n",
       "      <td>Decision Tree</td>\n",
       "      <td>29470.203250</td>\n",
       "      <td>43299.705532</td>\n",
       "      <td>0.831395</td>\n",
       "      <td>38958.375069</td>\n",
       "      <td>56140.391198</td>\n",
       "      <td>0.712335</td>\n",
       "    </tr>\n",
       "    <tr>\n",
       "      <th>6</th>\n",
       "      <td>Random Forest</td>\n",
       "      <td>30850.200927</td>\n",
       "      <td>43925.667797</td>\n",
       "      <td>0.826484</td>\n",
       "      <td>37317.066056</td>\n",
       "      <td>53441.058020</td>\n",
       "      <td>0.739333</td>\n",
       "    </tr>\n",
       "    <tr>\n",
       "      <th>7</th>\n",
       "      <td>XGBoost</td>\n",
       "      <td>32222.242354</td>\n",
       "      <td>45869.777807</td>\n",
       "      <td>0.810785</td>\n",
       "      <td>36273.512425</td>\n",
       "      <td>51903.821304</td>\n",
       "      <td>0.754114</td>\n",
       "    </tr>\n",
       "    <tr>\n",
       "      <th>8</th>\n",
       "      <td>CatBoosting</td>\n",
       "      <td>33188.102361</td>\n",
       "      <td>47043.549807</td>\n",
       "      <td>0.800978</td>\n",
       "      <td>35704.318032</td>\n",
       "      <td>50944.136099</td>\n",
       "      <td>0.763122</td>\n",
       "    </tr>\n",
       "    <tr>\n",
       "      <th>9</th>\n",
       "      <td>AdaBoost</td>\n",
       "      <td>37275.017398</td>\n",
       "      <td>52260.461228</td>\n",
       "      <td>0.754389</td>\n",
       "      <td>37592.133547</td>\n",
       "      <td>53080.554181</td>\n",
       "      <td>0.742838</td>\n",
       "    </tr>\n",
       "    <tr>\n",
       "      <th>10</th>\n",
       "      <td>Gradient Boosting</td>\n",
       "      <td>34872.557160</td>\n",
       "      <td>49473.681023</td>\n",
       "      <td>0.779885</td>\n",
       "      <td>35576.511378</td>\n",
       "      <td>50711.927717</td>\n",
       "      <td>0.765277</td>\n",
       "    </tr>\n",
       "  </tbody>\n",
       "</table>\n",
       "</div>"
      ],
      "text/plain": [
       "                Model     Train_MAE    Train_RMSE  Train_R2      Test_MAE  \\\n",
       "0              Linear  36785.496652  51902.289408  0.757744  36888.337265   \n",
       "1               Lasso  36783.896019  51902.170035  0.757745  36886.919614   \n",
       "2               Ridge  36784.417981  51902.175954  0.757745  36887.543558   \n",
       "3          ElasticNet  52466.181266  68188.771340  0.581855  52798.626570   \n",
       "4         K-Neighbors  35120.039837  49612.568957  0.778647  38166.111954   \n",
       "5       Decision Tree  29470.203250  43299.705532  0.831395  38958.375069   \n",
       "6       Random Forest  30850.200927  43925.667797  0.826484  37317.066056   \n",
       "7             XGBoost  32222.242354  45869.777807  0.810785  36273.512425   \n",
       "8         CatBoosting  33188.102361  47043.549807  0.800978  35704.318032   \n",
       "9            AdaBoost  37275.017398  52260.461228  0.754389  37592.133547   \n",
       "10  Gradient Boosting  34872.557160  49473.681023  0.779885  35576.511378   \n",
       "\n",
       "       Test_RMSE   Test_R2  \n",
       "0   52596.020122  0.747511  \n",
       "1   52597.909899  0.747493  \n",
       "2   52597.954617  0.747493  \n",
       "3   68222.010557  0.575199  \n",
       "4   54195.173613  0.731924  \n",
       "5   56140.391198  0.712335  \n",
       "6   53441.058020  0.739333  \n",
       "7   51903.821304  0.754114  \n",
       "8   50944.136099  0.763122  \n",
       "9   53080.554181  0.742838  \n",
       "10  50711.927717  0.765277  "
      ]
     },
     "execution_count": 40,
     "metadata": {},
     "output_type": "execute_result"
    }
   ],
   "source": [
    "import numpy as np\n",
    "train_model(models_dict, X_train, X_test, y_train, y_test)"
   ]
  },
  {
   "cell_type": "code",
   "execution_count": null,
   "id": "115e14e3",
   "metadata": {},
   "outputs": [
    {
     "data": {
      "text/html": [
       "<div>\n",
       "<style scoped>\n",
       "    .dataframe tbody tr th:only-of-type {\n",
       "        vertical-align: middle;\n",
       "    }\n",
       "\n",
       "    .dataframe tbody tr th {\n",
       "        vertical-align: top;\n",
       "    }\n",
       "\n",
       "    .dataframe thead th {\n",
       "        text-align: right;\n",
       "    }\n",
       "</style>\n",
       "<table border=\"1\" class=\"dataframe\">\n",
       "  <thead>\n",
       "    <tr style=\"text-align: right;\">\n",
       "      <th></th>\n",
       "      <th>Model</th>\n",
       "      <th>Train_MAE</th>\n",
       "      <th>Train_RMSE</th>\n",
       "      <th>Train_R2</th>\n",
       "      <th>Test_MAE</th>\n",
       "      <th>Test_RMSE</th>\n",
       "      <th>Test_R2</th>\n",
       "    </tr>\n",
       "  </thead>\n",
       "  <tbody>\n",
       "    <tr>\n",
       "      <th>10</th>\n",
       "      <td>Gradient Boosting</td>\n",
       "      <td>34872.557160</td>\n",
       "      <td>49473.681023</td>\n",
       "      <td>0.779885</td>\n",
       "      <td>35576.511378</td>\n",
       "      <td>50711.927717</td>\n",
       "      <td>0.765277</td>\n",
       "    </tr>\n",
       "    <tr>\n",
       "      <th>8</th>\n",
       "      <td>CatBoosting</td>\n",
       "      <td>33188.102361</td>\n",
       "      <td>47043.549807</td>\n",
       "      <td>0.800978</td>\n",
       "      <td>35704.318032</td>\n",
       "      <td>50944.136099</td>\n",
       "      <td>0.763122</td>\n",
       "    </tr>\n",
       "    <tr>\n",
       "      <th>7</th>\n",
       "      <td>XGBoost</td>\n",
       "      <td>32222.242354</td>\n",
       "      <td>45869.777807</td>\n",
       "      <td>0.810785</td>\n",
       "      <td>36273.512425</td>\n",
       "      <td>51903.821304</td>\n",
       "      <td>0.754114</td>\n",
       "    </tr>\n",
       "    <tr>\n",
       "      <th>0</th>\n",
       "      <td>Linear</td>\n",
       "      <td>36785.496652</td>\n",
       "      <td>51902.289408</td>\n",
       "      <td>0.757744</td>\n",
       "      <td>36888.337265</td>\n",
       "      <td>52596.020122</td>\n",
       "      <td>0.747511</td>\n",
       "    </tr>\n",
       "    <tr>\n",
       "      <th>1</th>\n",
       "      <td>Lasso</td>\n",
       "      <td>36783.896019</td>\n",
       "      <td>51902.170035</td>\n",
       "      <td>0.757745</td>\n",
       "      <td>36886.919614</td>\n",
       "      <td>52597.909899</td>\n",
       "      <td>0.747493</td>\n",
       "    </tr>\n",
       "    <tr>\n",
       "      <th>2</th>\n",
       "      <td>Ridge</td>\n",
       "      <td>36784.417981</td>\n",
       "      <td>51902.175954</td>\n",
       "      <td>0.757745</td>\n",
       "      <td>36887.543558</td>\n",
       "      <td>52597.954617</td>\n",
       "      <td>0.747493</td>\n",
       "    </tr>\n",
       "    <tr>\n",
       "      <th>9</th>\n",
       "      <td>AdaBoost</td>\n",
       "      <td>37523.174568</td>\n",
       "      <td>52609.866810</td>\n",
       "      <td>0.751094</td>\n",
       "      <td>37599.651126</td>\n",
       "      <td>53055.052235</td>\n",
       "      <td>0.743085</td>\n",
       "    </tr>\n",
       "    <tr>\n",
       "      <th>6</th>\n",
       "      <td>Random Forest</td>\n",
       "      <td>30839.793195</td>\n",
       "      <td>43899.792477</td>\n",
       "      <td>0.826689</td>\n",
       "      <td>37325.223252</td>\n",
       "      <td>53385.654202</td>\n",
       "      <td>0.739873</td>\n",
       "    </tr>\n",
       "    <tr>\n",
       "      <th>4</th>\n",
       "      <td>K-Neighbors</td>\n",
       "      <td>35120.039837</td>\n",
       "      <td>49612.568957</td>\n",
       "      <td>0.778647</td>\n",
       "      <td>38166.111954</td>\n",
       "      <td>54195.173613</td>\n",
       "      <td>0.731924</td>\n",
       "    </tr>\n",
       "    <tr>\n",
       "      <th>5</th>\n",
       "      <td>Decision Tree</td>\n",
       "      <td>29470.203250</td>\n",
       "      <td>43299.705532</td>\n",
       "      <td>0.831395</td>\n",
       "      <td>38941.357217</td>\n",
       "      <td>56145.058166</td>\n",
       "      <td>0.712287</td>\n",
       "    </tr>\n",
       "    <tr>\n",
       "      <th>3</th>\n",
       "      <td>ElasticNet</td>\n",
       "      <td>52466.181266</td>\n",
       "      <td>68188.771340</td>\n",
       "      <td>0.581855</td>\n",
       "      <td>52798.626570</td>\n",
       "      <td>68222.010557</td>\n",
       "      <td>0.575199</td>\n",
       "    </tr>\n",
       "  </tbody>\n",
       "</table>\n",
       "</div>"
      ],
      "text/plain": [
       "                Model     Train_MAE    Train_RMSE  Train_R2      Test_MAE  \\\n",
       "10  Gradient Boosting  34872.557160  49473.681023  0.779885  35576.511378   \n",
       "8         CatBoosting  33188.102361  47043.549807  0.800978  35704.318032   \n",
       "7             XGBoost  32222.242354  45869.777807  0.810785  36273.512425   \n",
       "0              Linear  36785.496652  51902.289408  0.757744  36888.337265   \n",
       "1               Lasso  36783.896019  51902.170035  0.757745  36886.919614   \n",
       "2               Ridge  36784.417981  51902.175954  0.757745  36887.543558   \n",
       "9            AdaBoost  37523.174568  52609.866810  0.751094  37599.651126   \n",
       "6       Random Forest  30839.793195  43899.792477  0.826689  37325.223252   \n",
       "4         K-Neighbors  35120.039837  49612.568957  0.778647  38166.111954   \n",
       "5       Decision Tree  29470.203250  43299.705532  0.831395  38941.357217   \n",
       "3          ElasticNet  52466.181266  68188.771340  0.581855  52798.626570   \n",
       "\n",
       "       Test_RMSE   Test_R2  \n",
       "10  50711.927717  0.765277  \n",
       "8   50944.136099  0.763122  \n",
       "7   51903.821304  0.754114  \n",
       "0   52596.020122  0.747511  \n",
       "1   52597.909899  0.747493  \n",
       "2   52597.954617  0.747493  \n",
       "9   53055.052235  0.743085  \n",
       "6   53385.654202  0.739873  \n",
       "4   54195.173613  0.731924  \n",
       "5   56145.058166  0.712287  \n",
       "3   68222.010557  0.575199  "
      ]
     },
     "execution_count": 41,
     "metadata": {},
     "output_type": "execute_result"
    }
   ],
   "source": [
    "model_scores_df = train_model(models_dict, X_train, X_test, y_train, y_test)\n",
    "model_scores_df.sort_values(by=[\"Test_R2\"],ascending=False)"
   ]
  },
  {
   "cell_type": "markdown",
   "id": "562ce978",
   "metadata": {},
   "source": [
    "## 6. Tune Hyperparameters"
   ]
  },
  {
   "cell_type": "markdown",
   "id": "01d3a6f3",
   "metadata": {},
   "source": [
    "A validation set can be used to test different hyperparameters."
   ]
  },
  {
   "cell_type": "markdown",
   "id": "375de68c",
   "metadata": {},
   "source": [
    "Manual tuning gradient boosting model"
   ]
  },
  {
   "cell_type": "code",
   "execution_count": null,
   "id": "773e9ec3",
   "metadata": {},
   "outputs": [],
   "source": [
    "def train_gb_model(X_train, X_test, y_train, y_test, lr_list):\n",
    "    model = GradientBoostingRegressor()\n",
    "    model_scores = {\n",
    "        \"LR\": [],\n",
    "        \"Train_MAE\": [],\n",
    "        \"Train_RMSE\": [],\n",
    "        \"Train_R2\": [],\n",
    "        \"Test_MAE\": [],\n",
    "        \"Test_RMSE\": [],\n",
    "        \"Test_R2\": [],  \n",
    "    }\n",
    "    \n",
    "    for lr in lr_list:\n",
    "        model.set_params(learning_rate=lr)\n",
    "        model.fit(X_train, y_train)\n",
    "        y_train_pred = model.predict(X_train)\n",
    "        y_test_pred = model.predict(X_test)\n",
    "        train_mae, _, train_rmse, train_r2 = evaluate_model(y_train, y_train_pred)\n",
    "        test_mae, _, test_rmse, test_r2 = evaluate_model(y_test, y_test_pred)\n",
    "        \n",
    "        model_scores[\"LR\"].append(lr)\n",
    "        model_scores[\"Train_MAE\"].append(train_mae)\n",
    "        model_scores[\"Train_RMSE\"].append(train_rmse)\n",
    "        model_scores[\"Train_R2\"].append(train_r2)\n",
    "\n",
    "        model_scores[\"Test_MAE\"].append(test_mae)\n",
    "        model_scores[\"Test_RMSE\"].append(test_rmse)\n",
    "        model_scores[\"Test_R2\"].append(test_r2)\n",
    "        \n",
    "    model_scores_df = pd.DataFrame(model_scores)\n",
    "    return model_scores_df"
   ]
  },
  {
   "cell_type": "code",
   "execution_count": null,
   "id": "f22e0e0b",
   "metadata": {},
   "outputs": [
    {
     "data": {
      "text/html": [
       "<div>\n",
       "<style scoped>\n",
       "    .dataframe tbody tr th:only-of-type {\n",
       "        vertical-align: middle;\n",
       "    }\n",
       "\n",
       "    .dataframe tbody tr th {\n",
       "        vertical-align: top;\n",
       "    }\n",
       "\n",
       "    .dataframe thead th {\n",
       "        text-align: right;\n",
       "    }\n",
       "</style>\n",
       "<table border=\"1\" class=\"dataframe\">\n",
       "  <thead>\n",
       "    <tr style=\"text-align: right;\">\n",
       "      <th></th>\n",
       "      <th>LR</th>\n",
       "      <th>Train_MAE</th>\n",
       "      <th>Train_RMSE</th>\n",
       "      <th>Train_R2</th>\n",
       "      <th>Test_MAE</th>\n",
       "      <th>Test_RMSE</th>\n",
       "      <th>Test_R2</th>\n",
       "    </tr>\n",
       "  </thead>\n",
       "  <tbody>\n",
       "    <tr>\n",
       "      <th>0</th>\n",
       "      <td>0.01</td>\n",
       "      <td>46135.082950</td>\n",
       "      <td>61817.725656</td>\n",
       "      <td>0.656341</td>\n",
       "      <td>46262.938174</td>\n",
       "      <td>62003.124623</td>\n",
       "      <td>0.649116</td>\n",
       "    </tr>\n",
       "    <tr>\n",
       "      <th>1</th>\n",
       "      <td>0.02</td>\n",
       "      <td>37642.714804</td>\n",
       "      <td>52707.581327</td>\n",
       "      <td>0.750168</td>\n",
       "      <td>38025.079204</td>\n",
       "      <td>53455.700037</td>\n",
       "      <td>0.739190</td>\n",
       "    </tr>\n",
       "    <tr>\n",
       "      <th>2</th>\n",
       "      <td>0.03</td>\n",
       "      <td>36055.218183</td>\n",
       "      <td>50913.855509</td>\n",
       "      <td>0.766883</td>\n",
       "      <td>36495.722826</td>\n",
       "      <td>51850.206530</td>\n",
       "      <td>0.754621</td>\n",
       "    </tr>\n",
       "    <tr>\n",
       "      <th>3</th>\n",
       "      <td>0.04</td>\n",
       "      <td>35539.087462</td>\n",
       "      <td>50288.408936</td>\n",
       "      <td>0.772575</td>\n",
       "      <td>35972.256134</td>\n",
       "      <td>51256.819623</td>\n",
       "      <td>0.760205</td>\n",
       "    </tr>\n",
       "    <tr>\n",
       "      <th>4</th>\n",
       "      <td>0.05</td>\n",
       "      <td>35287.346604</td>\n",
       "      <td>50003.683618</td>\n",
       "      <td>0.775143</td>\n",
       "      <td>35779.675227</td>\n",
       "      <td>51022.247427</td>\n",
       "      <td>0.762395</td>\n",
       "    </tr>\n",
       "    <tr>\n",
       "      <th>...</th>\n",
       "      <td>...</td>\n",
       "      <td>...</td>\n",
       "      <td>...</td>\n",
       "      <td>...</td>\n",
       "      <td>...</td>\n",
       "      <td>...</td>\n",
       "      <td>...</td>\n",
       "    </tr>\n",
       "    <tr>\n",
       "      <th>94</th>\n",
       "      <td>0.95</td>\n",
       "      <td>34066.436983</td>\n",
       "      <td>48319.265296</td>\n",
       "      <td>0.790037</td>\n",
       "      <td>36064.753633</td>\n",
       "      <td>51227.193994</td>\n",
       "      <td>0.760483</td>\n",
       "    </tr>\n",
       "    <tr>\n",
       "      <th>95</th>\n",
       "      <td>0.96</td>\n",
       "      <td>34104.928904</td>\n",
       "      <td>48289.587557</td>\n",
       "      <td>0.790295</td>\n",
       "      <td>36041.808954</td>\n",
       "      <td>51201.141207</td>\n",
       "      <td>0.760726</td>\n",
       "    </tr>\n",
       "    <tr>\n",
       "      <th>96</th>\n",
       "      <td>0.97</td>\n",
       "      <td>33990.325835</td>\n",
       "      <td>48290.569730</td>\n",
       "      <td>0.790287</td>\n",
       "      <td>35936.918850</td>\n",
       "      <td>51135.519981</td>\n",
       "      <td>0.761339</td>\n",
       "    </tr>\n",
       "    <tr>\n",
       "      <th>97</th>\n",
       "      <td>0.98</td>\n",
       "      <td>34053.649451</td>\n",
       "      <td>48289.746261</td>\n",
       "      <td>0.790294</td>\n",
       "      <td>36060.178777</td>\n",
       "      <td>51165.912513</td>\n",
       "      <td>0.761055</td>\n",
       "    </tr>\n",
       "    <tr>\n",
       "      <th>98</th>\n",
       "      <td>0.99</td>\n",
       "      <td>33958.028808</td>\n",
       "      <td>48186.514988</td>\n",
       "      <td>0.791189</td>\n",
       "      <td>35981.998306</td>\n",
       "      <td>51289.166508</td>\n",
       "      <td>0.759903</td>\n",
       "    </tr>\n",
       "  </tbody>\n",
       "</table>\n",
       "<p>99 rows × 7 columns</p>\n",
       "</div>"
      ],
      "text/plain": [
       "      LR     Train_MAE    Train_RMSE  Train_R2      Test_MAE     Test_RMSE  \\\n",
       "0   0.01  46135.082950  61817.725656  0.656341  46262.938174  62003.124623   \n",
       "1   0.02  37642.714804  52707.581327  0.750168  38025.079204  53455.700037   \n",
       "2   0.03  36055.218183  50913.855509  0.766883  36495.722826  51850.206530   \n",
       "3   0.04  35539.087462  50288.408936  0.772575  35972.256134  51256.819623   \n",
       "4   0.05  35287.346604  50003.683618  0.775143  35779.675227  51022.247427   \n",
       "..   ...           ...           ...       ...           ...           ...   \n",
       "94  0.95  34066.436983  48319.265296  0.790037  36064.753633  51227.193994   \n",
       "95  0.96  34104.928904  48289.587557  0.790295  36041.808954  51201.141207   \n",
       "96  0.97  33990.325835  48290.569730  0.790287  35936.918850  51135.519981   \n",
       "97  0.98  34053.649451  48289.746261  0.790294  36060.178777  51165.912513   \n",
       "98  0.99  33958.028808  48186.514988  0.791189  35981.998306  51289.166508   \n",
       "\n",
       "     Test_R2  \n",
       "0   0.649116  \n",
       "1   0.739190  \n",
       "2   0.754621  \n",
       "3   0.760205  \n",
       "4   0.762395  \n",
       "..       ...  \n",
       "94  0.760483  \n",
       "95  0.760726  \n",
       "96  0.761339  \n",
       "97  0.761055  \n",
       "98  0.759903  \n",
       "\n",
       "[99 rows x 7 columns]"
      ]
     },
     "execution_count": 43,
     "metadata": {},
     "output_type": "execute_result"
    }
   ],
   "source": [
    "lr_list = np.arange(0.01, 1, 0.01)\n",
    "gb_scores = train_gb_model(X_train, X_test, y_train, y_test, lr_list)\n",
    "gb_scores"
   ]
  },
  {
   "cell_type": "code",
   "execution_count": null,
   "id": "2b28b343",
   "metadata": {},
   "outputs": [
    {
     "data": {
      "image/png": "[encoded data removed]",
      "text/plain": [
       "<Figure size 640x480 with 1 Axes>"
      ]
     },
     "metadata": {},
     "output_type": "display_data"
    }
   ],
   "source": [
    "plt.plot(gb_scores[\"LR\"], gb_scores[\"Train_R2\"], label=\"Train R2\")\n",
    "plt.plot(gb_scores[\"LR\"], gb_scores[\"Test_R2\"], label=\"Test R2\")\n",
    "plt.xticks(np.arange(0., 1, 0.1))\n",
    "plt.xlabel(\"Learning Rate\")\n",
    "plt.ylabel(\"R2\")\n",
    "plt.legend();"
   ]
  },
  {
   "cell_type": "code",
   "execution_count": null,
   "id": "7567043b",
   "metadata": {},
   "outputs": [
    {
     "data": {
      "text/html": [
       "<div>\n",
       "<style scoped>\n",
       "    .dataframe tbody tr th:only-of-type {\n",
       "        vertical-align: middle;\n",
       "    }\n",
       "\n",
       "    .dataframe tbody tr th {\n",
       "        vertical-align: top;\n",
       "    }\n",
       "\n",
       "    .dataframe thead th {\n",
       "        text-align: right;\n",
       "    }\n",
       "</style>\n",
       "<table border=\"1\" class=\"dataframe\">\n",
       "  <thead>\n",
       "    <tr style=\"text-align: right;\">\n",
       "      <th></th>\n",
       "      <th>LR</th>\n",
       "      <th>Train_MAE</th>\n",
       "      <th>Train_RMSE</th>\n",
       "      <th>Train_R2</th>\n",
       "      <th>Test_MAE</th>\n",
       "      <th>Test_RMSE</th>\n",
       "      <th>Test_R2</th>\n",
       "    </tr>\n",
       "  </thead>\n",
       "  <tbody>\n",
       "    <tr>\n",
       "      <th>21</th>\n",
       "      <td>0.22</td>\n",
       "      <td>34570.198800</td>\n",
       "      <td>49001.595102</td>\n",
       "      <td>0.784065</td>\n",
       "      <td>35541.853112</td>\n",
       "      <td>50618.751475</td>\n",
       "      <td>0.766138</td>\n",
       "    </tr>\n",
       "    <tr>\n",
       "      <th>29</th>\n",
       "      <td>0.30</td>\n",
       "      <td>34441.782097</td>\n",
       "      <td>48834.698684</td>\n",
       "      <td>0.785534</td>\n",
       "      <td>35589.581805</td>\n",
       "      <td>50626.521604</td>\n",
       "      <td>0.766067</td>\n",
       "    </tr>\n",
       "    <tr>\n",
       "      <th>17</th>\n",
       "      <td>0.18</td>\n",
       "      <td>34649.458177</td>\n",
       "      <td>49128.296969</td>\n",
       "      <td>0.782947</td>\n",
       "      <td>35559.103368</td>\n",
       "      <td>50630.173242</td>\n",
       "      <td>0.766033</td>\n",
       "    </tr>\n",
       "    <tr>\n",
       "      <th>38</th>\n",
       "      <td>0.39</td>\n",
       "      <td>34363.449237</td>\n",
       "      <td>48759.639651</td>\n",
       "      <td>0.786193</td>\n",
       "      <td>35650.185510</td>\n",
       "      <td>50639.596832</td>\n",
       "      <td>0.765946</td>\n",
       "    </tr>\n",
       "    <tr>\n",
       "      <th>39</th>\n",
       "      <td>0.40</td>\n",
       "      <td>34342.147021</td>\n",
       "      <td>48701.448641</td>\n",
       "      <td>0.786703</td>\n",
       "      <td>35712.902845</td>\n",
       "      <td>50652.765759</td>\n",
       "      <td>0.765824</td>\n",
       "    </tr>\n",
       "    <tr>\n",
       "      <th>...</th>\n",
       "      <td>...</td>\n",
       "      <td>...</td>\n",
       "      <td>...</td>\n",
       "      <td>...</td>\n",
       "      <td>...</td>\n",
       "      <td>...</td>\n",
       "      <td>...</td>\n",
       "    </tr>\n",
       "    <tr>\n",
       "      <th>79</th>\n",
       "      <td>0.80</td>\n",
       "      <td>34027.768611</td>\n",
       "      <td>48414.718376</td>\n",
       "      <td>0.789207</td>\n",
       "      <td>36071.034985</td>\n",
       "      <td>51290.415295</td>\n",
       "      <td>0.759891</td>\n",
       "    </tr>\n",
       "    <tr>\n",
       "      <th>80</th>\n",
       "      <td>0.81</td>\n",
       "      <td>34111.951245</td>\n",
       "      <td>48425.437193</td>\n",
       "      <td>0.789114</td>\n",
       "      <td>36056.058077</td>\n",
       "      <td>51291.952240</td>\n",
       "      <td>0.759877</td>\n",
       "    </tr>\n",
       "    <tr>\n",
       "      <th>2</th>\n",
       "      <td>0.03</td>\n",
       "      <td>36055.218183</td>\n",
       "      <td>50913.855509</td>\n",
       "      <td>0.766883</td>\n",
       "      <td>36495.722826</td>\n",
       "      <td>51850.206530</td>\n",
       "      <td>0.754621</td>\n",
       "    </tr>\n",
       "    <tr>\n",
       "      <th>1</th>\n",
       "      <td>0.02</td>\n",
       "      <td>37642.714804</td>\n",
       "      <td>52707.581327</td>\n",
       "      <td>0.750168</td>\n",
       "      <td>38025.079204</td>\n",
       "      <td>53455.700037</td>\n",
       "      <td>0.739190</td>\n",
       "    </tr>\n",
       "    <tr>\n",
       "      <th>0</th>\n",
       "      <td>0.01</td>\n",
       "      <td>46135.082950</td>\n",
       "      <td>61817.725656</td>\n",
       "      <td>0.656341</td>\n",
       "      <td>46262.938174</td>\n",
       "      <td>62003.124623</td>\n",
       "      <td>0.649116</td>\n",
       "    </tr>\n",
       "  </tbody>\n",
       "</table>\n",
       "<p>99 rows × 7 columns</p>\n",
       "</div>"
      ],
      "text/plain": [
       "      LR     Train_MAE    Train_RMSE  Train_R2      Test_MAE     Test_RMSE  \\\n",
       "21  0.22  34570.198800  49001.595102  0.784065  35541.853112  50618.751475   \n",
       "29  0.30  34441.782097  48834.698684  0.785534  35589.581805  50626.521604   \n",
       "17  0.18  34649.458177  49128.296969  0.782947  35559.103368  50630.173242   \n",
       "38  0.39  34363.449237  48759.639651  0.786193  35650.185510  50639.596832   \n",
       "39  0.40  34342.147021  48701.448641  0.786703  35712.902845  50652.765759   \n",
       "..   ...           ...           ...       ...           ...           ...   \n",
       "79  0.80  34027.768611  48414.718376  0.789207  36071.034985  51290.415295   \n",
       "80  0.81  34111.951245  48425.437193  0.789114  36056.058077  51291.952240   \n",
       "2   0.03  36055.218183  50913.855509  0.766883  36495.722826  51850.206530   \n",
       "1   0.02  37642.714804  52707.581327  0.750168  38025.079204  53455.700037   \n",
       "0   0.01  46135.082950  61817.725656  0.656341  46262.938174  62003.124623   \n",
       "\n",
       "     Test_R2  \n",
       "21  0.766138  \n",
       "29  0.766067  \n",
       "17  0.766033  \n",
       "38  0.765946  \n",
       "39  0.765824  \n",
       "..       ...  \n",
       "79  0.759891  \n",
       "80  0.759877  \n",
       "2   0.754621  \n",
       "1   0.739190  \n",
       "0   0.649116  \n",
       "\n",
       "[99 rows x 7 columns]"
      ]
     },
     "execution_count": 45,
     "metadata": {},
     "output_type": "execute_result"
    }
   ],
   "source": [
    "gb_scores.sort_values(by=[\"Test_R2\"],ascending=False)"
   ]
  },
  {
   "cell_type": "markdown",
   "id": "da7d9cd8",
   "metadata": {},
   "source": [
    "### Cross Validation"
   ]
  },
  {
   "cell_type": "code",
   "execution_count": null,
   "id": "c4aa2d57",
   "metadata": {},
   "outputs": [],
   "source": [
    "gradboost_params = {\n",
    "    'learning_rate':[0.1, 0.01, 0.05, 0.001],\n",
    "    'subsample':[0.6, 0.7, 0.75, 0.8, 0.85, 0.9],\n",
    "    'n_estimators': [8, 16, 32, 64, 128, 256]\n",
    "    }\n",
    "\n",
    "catboost_params = {\n",
    "    'depth': [6, 8, 10],\n",
    "    'learning_rate': [0.01, 0.05, 0.1],\n",
    "    'iterations': [30, 50, 100]\n",
    "    }\n"
   ]
  },
  {
   "cell_type": "code",
   "execution_count": null,
   "id": "db354566",
   "metadata": {},
   "outputs": [],
   "source": [
    "from sklearn.model_selection import GridSearchCV, RandomizedSearchCV"
   ]
  },
  {
   "cell_type": "markdown",
   "id": "f4039d70",
   "metadata": {},
   "source": [
    "Setup grid search hyperparameters"
   ]
  },
  {
   "cell_type": "code",
   "execution_count": null,
   "id": "8e908d37",
   "metadata": {},
   "outputs": [
    {
     "name": "stdout",
     "output_type": "stream",
     "text": [
      "Fitting 5 folds for each of 144 candidates, totalling 720 fits\n"
     ]
    },
    {
     "data": {
      "text/plain": [
       "{'learning_rate': 0.05, 'n_estimators': 256, 'subsample': 0.6}"
      ]
     },
     "execution_count": 49,
     "metadata": {},
     "output_type": "execute_result"
    }
   ],
   "source": [
    "model = GradientBoostingRegressor()\n",
    "grid_search = GridSearchCV(model,\n",
    "                           param_grid=gradboost_params,\n",
    "                           cv=5,\n",
    "                           verbose=True)\n",
    "grid_search.fit(X_train, y_train) \n",
    "grid_search.best_params_"
   ]
  },
  {
   "cell_type": "code",
   "execution_count": null,
   "id": "c8621a57",
   "metadata": {},
   "outputs": [
    {
     "name": "stdout",
     "output_type": "stream",
     "text": [
      "train_mae, train_mse, train_rmse, train_r2: 34723.52400069268 2423854501.0838685 49232.656855829635 0.7191567477254142\n",
      "test_mae, test_mse, test_rmse, test_r2: 35493.365810978 2553396487.114214 50531.143734475416 0.7035504415984802\n"
     ]
    }
   ],
   "source": [
    "model.set_params(**grid_search.best_params_)\n",
    "model.fit(X_train, y_train)\n",
    "y_train_pred = model.predict(X_train)\n",
    "y_test_pred = model.predict(X_test)\n",
    "train_mae, train_mse, train_rmse, train_r2 = evaluate_model(y_train_pred, y_train)\n",
    "test_mae, test_mse, test_rmse, test_r2 = evaluate_model(y_test_pred, y_test)\n",
    "print(\"train_mae, train_mse, train_rmse, train_r2:\", train_mae, train_mse, train_rmse, train_r2)\n",
    "print(\"test_mae, test_mse, test_rmse, test_r2:\", test_mae, test_mse, test_rmse, test_r2)"
   ]
  },
  {
   "cell_type": "markdown",
   "id": "a1954df9",
   "metadata": {},
   "source": [
    "Setup random search hyperparameters"
   ]
  },
  {
   "cell_type": "code",
   "execution_count": null,
   "id": "f53b1b9e",
   "metadata": {},
   "outputs": [
    {
     "name": "stdout",
     "output_type": "stream",
     "text": [
      "Fitting 5 folds for each of 20 candidates, totalling 100 fits\n"
     ]
    },
    {
     "data": {
      "text/plain": [
       "{'subsample': 0.6, 'n_estimators': 256, 'learning_rate': 0.05}"
      ]
     },
     "execution_count": 52,
     "metadata": {},
     "output_type": "execute_result"
    }
   ],
   "source": [
    "model = GradientBoostingRegressor()\n",
    "random_search = RandomizedSearchCV(model,\n",
    "                                   param_distributions=gradboost_params,\n",
    "                                   cv=5,\n",
    "                                   n_iter=20,\n",
    "                                   verbose=True)\n",
    "random_search.fit(X_train, y_train) \n",
    "random_search.best_params_"
   ]
  },
  {
   "cell_type": "code",
   "execution_count": null,
   "id": "6aafad88",
   "metadata": {},
   "outputs": [
    {
     "name": "stdout",
     "output_type": "stream",
     "text": [
      "Fitting 5 folds for each of 20 candidates, totalling 100 fits\n"
     ]
    },
    {
     "data": {
      "text/plain": [
       "{'subsample': 0.7, 'n_estimators': 256, 'learning_rate': 0.05}"
      ]
     },
     "execution_count": 53,
     "metadata": {},
     "output_type": "execute_result"
    }
   ],
   "source": [
    "model = GradientBoostingRegressor()\n",
    "random_search = RandomizedSearchCV(model,\n",
    "                                 param_distributions=gradboost_params,\n",
    "                                 cv=5,\n",
    "                                 n_iter=20,\n",
    "                                 verbose=True)\n",
    "random_search.fit(X_train, y_train) \n",
    "random_search.best_params_"
   ]
  },
  {
   "cell_type": "code",
   "execution_count": null,
   "id": "fbd312df",
   "metadata": {},
   "outputs": [],
   "source": []
  }
 ],
 "metadata": {
  "kernelspec": {
   "display_name": "Python 3 (ipykernel)",
   "language": "python",
   "name": "python3"
  },
  "language_info": {
   "codemirror_mode": {
    "name": "ipython",
    "version": 3
   },
   "file_extension": ".py",
   "mimetype": "text/x-python",
   "name": "python",
   "nbconvert_exporter": "python",
   "pygments_lexer": "ipython3",
   "version": "3.12.3"
  }
 },
 "nbformat": 4,
 "nbformat_minor": 5
}
